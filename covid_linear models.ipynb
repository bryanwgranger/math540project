{
 "cells": [
  {
   "cell_type": "code",
   "execution_count": 15,
   "metadata": {},
   "outputs": [],
   "source": [
    "import proj1 as pr\n",
    "import pandas as pd\n",
    "import numpy as np\n",
    "import matplotlib.pyplot as plt"
   ]
  },
  {
   "cell_type": "code",
   "execution_count": 16,
   "metadata": {},
   "outputs": [],
   "source": [
    "## as the dataset is 1.22GB, I am not submitting with the project here \n",
    "## since I only use the last days' entries for each county in the country, the\n",
    "## dataset I use is much smaller and have submitted it with the project\n",
    "\n",
    "## I did create a function to process the raw 1.22GB data set into the modified form needed here\n",
    "## but it can also be loaded into pandas directly from the 'modified_dataset.csv' file\n",
    "\n",
    "#df = pr.create_national_dataset() ## this requires the full dataset in the directory\n",
    "#df.to_csv('modified_dataset.csv')\n",
    "\n",
    "df = pd.read_csv('modified_dataset.csv', index_col=[0])"
   ]
  },
  {
   "cell_type": "code",
   "execution_count": 17,
   "metadata": {},
   "outputs": [
    {
     "data": {
      "text/plain": [
       "(3218, 193)"
      ]
     },
     "execution_count": 17,
     "metadata": {},
     "output_type": "execute_result"
    }
   ],
   "source": [
    "df.shape"
   ]
  },
  {
   "cell_type": "code",
   "execution_count": 18,
   "metadata": {},
   "outputs": [],
   "source": [
    "##PREPROCESSING"
   ]
  },
  {
   "cell_type": "code",
   "execution_count": 19,
   "metadata": {},
   "outputs": [],
   "source": [
    "#remove non-numerical columns\n",
    "rem_col = ['fips', 'date', 'county', 'state', 'cases', 'deaths', 'stay_at_home_announced', 'date_stay_at_home_announced', 'stay_at_home_effective', 'date_stay_at_home_effective', 'CALL', 'presence_of_water_violation', 'deaths_per_1000']\n",
    "df = df[[col for col in df.columns if col not in rem_col]]\n",
    "\n",
    "#remove blank rows \n",
    "df = df.dropna(axis=0, how='all')"
   ]
  },
  {
   "cell_type": "code",
   "execution_count": 20,
   "metadata": {},
   "outputs": [],
   "source": [
    "#create X and y matrices\n",
    "X = df[[col for col in df.columns if col != 'cases_per_1000']]\n",
    "y = np.array(df['cases_per_1000']).reshape(-1,1)"
   ]
  },
  {
   "cell_type": "code",
   "execution_count": 21,
   "metadata": {},
   "outputs": [],
   "source": [
    "#impute the mean into missing values in each column\n",
    "from sklearn.impute import SimpleImputer\n",
    "imp = SimpleImputer(missing_values=np.nan, strategy='mean')\n",
    "X_imp = imp.fit_transform(X)"
   ]
  },
  {
   "cell_type": "code",
   "execution_count": 22,
   "metadata": {},
   "outputs": [],
   "source": [
    "#scale and center the data\n",
    "from sklearn.preprocessing import StandardScaler\n",
    "scalerX = StandardScaler()\n",
    "scalery = StandardScaler()\n",
    "\n",
    "X_scaled = scalerX.fit_transform(X_imp)\n",
    "y_scaled = scalery.fit_transform(y)"
   ]
  },
  {
   "cell_type": "code",
   "execution_count": 23,
   "metadata": {},
   "outputs": [
    {
     "name": "stdout",
     "output_type": "stream",
     "text": [
      "(2507, 179)\n",
      "(627, 179)\n",
      "(2507, 1)\n",
      "(627, 1)\n"
     ]
    }
   ],
   "source": [
    "#create training and testing sets - using 80/20 split\n",
    "from sklearn.model_selection import train_test_split\n",
    "X_train, X_test, y_train, y_test = train_test_split(X_scaled, y_scaled, random_state=54, test_size=.2)\n",
    "\n",
    "#check sizes\n",
    "print(X_train.shape)\n",
    "print(X_test.shape)\n",
    "print(y_train.shape)\n",
    "print(y_test.shape)"
   ]
  },
  {
   "cell_type": "code",
   "execution_count": 24,
   "metadata": {},
   "outputs": [],
   "source": [
    "## LINEAR REGRESSION"
   ]
  },
  {
   "cell_type": "code",
   "execution_count": 25,
   "metadata": {},
   "outputs": [
    {
     "name": "stdout",
     "output_type": "stream",
     "text": [
      "{'copy_X': True, 'fit_intercept': False, 'n_jobs': None, 'normalize': False}\n",
      "\n",
      "R^2 score for linear regression model is 0.4592268175933261\n",
      "Mean squared error for linear regression model is 0.5914679826657299\n"
     ]
    }
   ],
   "source": [
    "from sklearn.linear_model import LinearRegression\n",
    "from sklearn.metrics import mean_squared_error\n",
    "\n",
    "lin_reg = LinearRegression(fit_intercept=False)\n",
    "lin_reg.fit(X_train, y_train)\n",
    "y_pred = lin_reg.predict(X_test)\n",
    "\n",
    "print(lin_reg.get_params())\n",
    "print()\n",
    "print(f'R^2 score for linear regression model is {lin_reg.score(X_test, y_test)}')\n",
    "print(f'Mean squared error for linear regression model is {mean_squared_error(y_test, y_pred)}')"
   ]
  },
  {
   "cell_type": "code",
   "execution_count": 26,
   "metadata": {},
   "outputs": [],
   "source": [
    "## RIDGE REGRESSOR"
   ]
  },
  {
   "cell_type": "code",
   "execution_count": 27,
   "metadata": {},
   "outputs": [
    {
     "name": "stdout",
     "output_type": "stream",
     "text": [
      "{'alpha': 1.0, 'copy_X': True, 'fit_intercept': False, 'max_iter': None, 'normalize': False, 'random_state': None, 'solver': 'auto', 'tol': 0.001}\n",
      "\n",
      "R^2 score for ridge regressor model is 0.456650600805797\n",
      "Mean squared error for ridge regressor model is 0.5942857069830638\n"
     ]
    }
   ],
   "source": [
    "from sklearn.linear_model import Ridge\n",
    "\n",
    "ridge = Ridge(alpha=1.0, fit_intercept=False)\n",
    "ridge.fit(X_train, y_train)\n",
    "yr_pred = ridge.predict(X_test)\n",
    "\n",
    "print(ridge.get_params())\n",
    "print()\n",
    "print(f'R^2 score for ridge regressor model is {ridge.score(X_test, y_test)}')\n",
    "print(f'Mean squared error for ridge regressor model is {mean_squared_error(y_test, yr_pred)}')"
   ]
  },
  {
   "cell_type": "code",
   "execution_count": 28,
   "metadata": {},
   "outputs": [
    {
     "name": "stdout",
     "output_type": "stream",
     "text": [
      "{'alpha': 100.0, 'copy_X': True, 'fit_intercept': False, 'max_iter': None, 'normalize': False, 'random_state': None, 'solver': 'auto', 'tol': 0.001}\n",
      "\n",
      "R^2 score for ridge regressor model is 0.47132220240759354\n",
      "Mean squared error for ridge regressor model is 0.5782387155933096\n"
     ]
    }
   ],
   "source": [
    "##testing again with a different alpha\n",
    "\n",
    "ridge = Ridge(alpha=100.0, fit_intercept=False)\n",
    "ridge.fit(X_train, y_train)\n",
    "yr_pred = ridge.predict(X_test)\n",
    "\n",
    "print(ridge.get_params())\n",
    "print()\n",
    "print(f'R^2 score for ridge regressor model is {ridge.score(X_test, y_test)}')\n",
    "print(f'Mean squared error for ridge regressor model is {mean_squared_error(y_test, yr_pred)}')"
   ]
  },
  {
   "cell_type": "code",
   "execution_count": 29,
   "metadata": {},
   "outputs": [],
   "source": [
    "## RIDGE with Cross validation"
   ]
  },
  {
   "cell_type": "code",
   "execution_count": 30,
   "metadata": {},
   "outputs": [
    {
     "name": "stdout",
     "output_type": "stream",
     "text": [
      "{'alphas': array([ 50.,  60.,  70.,  80.,  90., 100., 110., 120., 130., 140., 150.]), 'cv': None, 'fit_intercept': False, 'gcv_mode': None, 'normalize': False, 'scoring': None, 'store_cv_values': False}\n",
      "\n",
      "R^2 score for ridge regressor model is 0.4715864723796199\n",
      "Mean squared error for ridge regressor model is 0.5779496716238252\n",
      "CV model chose alpha: 70.0\n"
     ]
    }
   ],
   "source": [
    "from sklearn.linear_model import RidgeCV\n",
    "r_alphas = np.linspace(50,150, 11)\n",
    "rcv = RidgeCV(alphas=r_alphas, fit_intercept=False)\n",
    "rcv.fit(X_train, y_train)\n",
    "yrcv_pred = rcv.predict(X_test)\n",
    "\n",
    "print(rcv.get_params())\n",
    "print()\n",
    "print(f'R^2 score for ridge regressor model is {rcv.score(X_test, y_test)}')\n",
    "print(f'Mean squared error for ridge regressor model is {mean_squared_error(y_test, yrcv_pred)}')\n",
    "print(f'CV model chose alpha: {rcv.alpha_}')"
   ]
  },
  {
   "cell_type": "code",
   "execution_count": 31,
   "metadata": {},
   "outputs": [],
   "source": [
    "#Plot Ridge models"
   ]
  },
  {
   "cell_type": "code",
   "execution_count": 32,
   "metadata": {},
   "outputs": [
    {
     "data": {
      "image/png": "[encoded data removed]",
      "text/plain": [
       "<Figure size 720x288 with 2 Axes>"
      ]
     },
     "metadata": {
      "needs_background": "light"
     },
     "output_type": "display_data"
    }
   ],
   "source": [
    "pr.ridge_plots(r_alphas, X_train, y_train, X_test, y_test)"
   ]
  },
  {
   "cell_type": "code",
   "execution_count": 33,
   "metadata": {},
   "outputs": [],
   "source": [
    "## LASSO"
   ]
  },
  {
   "cell_type": "code",
   "execution_count": 34,
   "metadata": {},
   "outputs": [
    {
     "name": "stdout",
     "output_type": "stream",
     "text": [
      "{'alphas': array([ 50.,  60.,  70.,  80.,  90., 100., 110., 120., 130., 140., 150.]), 'cv': None, 'fit_intercept': False, 'gcv_mode': None, 'normalize': False, 'scoring': None, 'store_cv_values': False}\n",
      "\n",
      "R^2 score for lasso model is -0.0005518830981687817\n",
      "Mean squared error for lasso model is 1.0943486531908453\n"
     ]
    }
   ],
   "source": [
    "from sklearn.linear_model import Lasso\n",
    "lasso = Lasso(fit_intercept=False, alpha=1.0)\n",
    "lasso.fit(X_train, y_train)\n",
    "yl_pred = lasso.predict(X_test)\n",
    "\n",
    "print(rcv.get_params())\n",
    "print()\n",
    "print(f'R^2 score for lasso model is {lasso.score(X_test, y_test)}')\n",
    "print(f'Mean squared error for lasso model is {mean_squared_error(y_test, yl_pred)}')"
   ]
  },
  {
   "cell_type": "code",
   "execution_count": 35,
   "metadata": {},
   "outputs": [
    {
     "name": "stdout",
     "output_type": "stream",
     "text": [
      "This model kept 0 of 179 features\n",
      "\n",
      "[-0. -0. -0. -0. -0. -0.  0.  0.  0. -0.  0.  0.  0. -0.  0. -0. -0. -0.\n",
      " -0.  0. -0.  0.  0. -0.  0. -0. -0. -0. -0. -0. -0.  0.  0. -0. -0. -0.\n",
      " -0. -0. -0. -0. -0.  0. -0. -0.  0. -0. -0.  0. -0.  0. -0.  0. -0.  0.\n",
      " -0. -0. -0.  0. -0.  0. -0. -0. -0. -0.  0. -0.  0. -0.  0.  0. -0.  0.\n",
      " -0.  0. -0.  0. -0.  0. -0. -0. -0.  0. -0. -0.  0. -0.  0.  0.  0. -0.\n",
      " -0. -0.  0. -0.  0.  0. -0. -0. -0.  0.  0. -0. -0. -0. -0. -0. -0.  0.\n",
      " -0. -0.  0. -0.  0. -0. -0. -0. -0. -0.  0. -0. -0. -0.  0. -0. -0.  0.\n",
      " -0. -0. -0. -0. -0. -0. -0. -0. -0. -0. -0. -0. -0. -0. -0. -0. -0.  0.\n",
      " -0.  0. -0.  0. -0.  0.  0.  0. -0.  0.  0. -0.  0.  0. -0.  0.  0.  0.\n",
      " -0.  0. -0.  0.  0.  0. -0.  0. -0.  0.  0. -0.  0.  0.  0.  0. -0.]\n"
     ]
    }
   ],
   "source": [
    "## MODEL COEFFICIENTS\n",
    "print(f'This model kept {sum(lasso.coef_ != 0)} of {X_train.shape[1]} features')\n",
    "print()\n",
    "print(lasso.coef_)"
   ]
  },
  {
   "cell_type": "code",
   "execution_count": 36,
   "metadata": {},
   "outputs": [
    {
     "name": "stdout",
     "output_type": "stream",
     "text": [
      "{'alpha': 0.001, 'copy_X': True, 'fit_intercept': False, 'max_iter': 1000, 'normalize': False, 'positive': False, 'precompute': False, 'random_state': None, 'selection': 'cyclic', 'tol': 0.0001, 'warm_start': False}\n",
      "\n",
      "R^2 score for lasso model is 0.46996387690604996\n",
      "Mean squared error for lasso model is 0.5797243773648972\n"
     ]
    },
    {
     "name": "stderr",
     "output_type": "stream",
     "text": [
      "/opt/anaconda3/lib/python3.7/site-packages/sklearn/linear_model/coordinate_descent.py:475: ConvergenceWarning: Objective did not converge. You might want to increase the number of iterations. Duality gap: 2.6008167357094862, tolerance: 0.244784339444934\n",
      "  positive)\n"
     ]
    }
   ],
   "source": [
    "#testing again with different alpha\n",
    "\n",
    "lasso = Lasso(fit_intercept=False, alpha=0.001)\n",
    "lasso.fit(X_train, y_train)\n",
    "yl_pred = lasso.predict(X_test)\n",
    "\n",
    "print(lasso.get_params())\n",
    "print()\n",
    "print(f'R^2 score for lasso model is {lasso.score(X_test, y_test)}')\n",
    "print(f'Mean squared error for lasso model is {mean_squared_error(y_test, yl_pred)}')"
   ]
  },
  {
   "cell_type": "code",
   "execution_count": 37,
   "metadata": {},
   "outputs": [
    {
     "name": "stdout",
     "output_type": "stream",
     "text": [
      "This model kept 133 of 179 features\n",
      "\n",
      "[-6.56745468e-02 -1.38299378e-01  0.00000000e+00 -4.37851202e-02\n",
      " -0.00000000e+00  0.00000000e+00  9.24529175e-02  3.32897217e-01\n",
      " -7.35479349e-02 -6.26867186e-01 -2.62725904e-02  1.05556294e-01\n",
      "  1.47371114e-03  1.01675685e-02  7.80291310e-02  5.12501065e-03\n",
      "  4.82722350e-02 -5.03991585e-02  1.57858230e-01  2.66971817e-02\n",
      " -5.32181595e-02  7.80070716e-02  1.51658476e-02  0.00000000e+00\n",
      "  0.00000000e+00  3.84786843e-03 -5.18199747e-02 -1.63384315e-01\n",
      "  8.69922954e-02  6.90030662e-02 -7.26714398e-02  4.08047614e-02\n",
      "  1.47338535e-01  2.92123306e-02  8.50500108e-03 -0.00000000e+00\n",
      " -0.00000000e+00  4.17683850e-02  0.00000000e+00  4.78967951e-02\n",
      " -5.71056818e-02  6.07976463e-03 -1.10306825e-01 -9.73876846e-02\n",
      "  8.36624050e-02 -1.64256167e-02 -0.00000000e+00 -3.58749246e-02\n",
      " -3.35370380e-02 -1.23795649e-02  0.00000000e+00  2.60609566e-02\n",
      " -8.49819242e-02 -1.43794819e-02  7.83371447e-02 -0.00000000e+00\n",
      "  7.70753774e-03 -0.00000000e+00 -6.79449435e-02 -4.40295249e-02\n",
      "  0.00000000e+00 -1.09937649e-01  7.67717314e-03  1.63849659e-01\n",
      " -6.30209994e-03  1.46303188e-02 -2.98445694e-02 -5.52689638e-02\n",
      " -2.73764055e-02  1.59876816e-01  3.19529639e-01 -3.07284869e-02\n",
      " -4.22202467e-03 -4.83877381e-02 -0.00000000e+00 -4.46634559e-01\n",
      "  0.00000000e+00 -0.00000000e+00  1.06568190e-01 -0.00000000e+00\n",
      "  0.00000000e+00  4.78119757e-02 -1.53463530e-01  0.00000000e+00\n",
      "  1.02734546e-01  6.36010753e-02 -1.13445668e-01  6.19740086e-02\n",
      "  2.46435098e-04 -2.53903573e-02  0.00000000e+00 -1.63869014e-01\n",
      " -1.91943122e-01  1.34191389e-03  4.79352596e-02 -3.09001340e-03\n",
      " -1.63373097e-02 -1.03647386e-02 -1.13520156e-01 -2.49763035e-02\n",
      " -2.52189479e-02  4.19580395e-02  0.00000000e+00  6.77797039e-02\n",
      "  0.00000000e+00 -1.61626989e-02  0.00000000e+00  5.26033569e-02\n",
      " -3.19632376e-02  1.21688351e-03  5.72267137e-01  8.15123499e-02\n",
      "  2.22448104e-01  5.81652364e-02 -3.45092899e-02 -0.00000000e+00\n",
      "  6.18569455e-03  0.00000000e+00  0.00000000e+00 -0.00000000e+00\n",
      "  0.00000000e+00  6.03122217e-02  7.43064551e-02 -3.19817870e-02\n",
      " -7.70623161e-02 -4.80909581e-03  0.00000000e+00  0.00000000e+00\n",
      " -1.10632296e-01 -0.00000000e+00  2.01735442e-01 -0.00000000e+00\n",
      "  0.00000000e+00 -0.00000000e+00  0.00000000e+00 -5.11739532e-02\n",
      "  0.00000000e+00  1.96725479e-02  0.00000000e+00 -0.00000000e+00\n",
      " -8.07102954e-02 -0.00000000e+00  4.05328795e-02  1.49401202e-01\n",
      " -0.00000000e+00 -0.00000000e+00  1.89394876e-01  6.34479457e-02\n",
      " -8.95160805e-02 -2.90914948e-02 -4.47215350e-01 -0.00000000e+00\n",
      "  8.33168141e-02  1.58602074e-01  4.15182164e-03 -2.25409403e-02\n",
      "  8.22071208e-02 -7.19946980e-02 -2.41969471e-02  2.02083913e-01\n",
      "  1.80378288e-01  0.00000000e+00 -7.96726289e-03  6.02888724e-02\n",
      " -0.00000000e+00  2.06240772e-02  0.00000000e+00  1.02896614e-01\n",
      " -3.93607663e-02 -0.00000000e+00  6.50045451e-02 -1.71906847e-01\n",
      "  4.02012704e-02 -1.46427134e-01  3.08783059e-02 -2.97216172e-02\n",
      "  3.84536055e-02  1.65727743e-02 -4.19421106e-02]\n"
     ]
    }
   ],
   "source": [
    "## MODEL COEFFICIENTS\n",
    "print(f'This model kept {sum(lasso.coef_ != 0)} of {X_train.shape[1]} features')\n",
    "print()\n",
    "print(lasso.coef_)"
   ]
  },
  {
   "cell_type": "code",
   "execution_count": 38,
   "metadata": {},
   "outputs": [
    {
     "name": "stderr",
     "output_type": "stream",
     "text": [
      "/opt/anaconda3/lib/python3.7/site-packages/sklearn/linear_model/coordinate_descent.py:1100: DataConversionWarning: A column-vector y was passed when a 1d array was expected. Please change the shape of y to (n_samples, ), for example using ravel().\n",
      "  y = column_or_1d(y, warn=True)\n",
      "/opt/anaconda3/lib/python3.7/site-packages/sklearn/model_selection/_split.py:1978: FutureWarning: The default value of cv will change from 3 to 5 in version 0.22. Specify it explicitly to silence this warning.\n",
      "  warnings.warn(CV_WARNING, FutureWarning)\n",
      "/opt/anaconda3/lib/python3.7/site-packages/sklearn/linear_model/coordinate_descent.py:471: ConvergenceWarning: Objective did not converge. You might want to increase the number of iterations. Duality gap: 0.4361231456945234, tolerance: 0.15532413120931293\n",
      "  tol, rng, random, positive)\n",
      "/opt/anaconda3/lib/python3.7/site-packages/sklearn/linear_model/coordinate_descent.py:471: ConvergenceWarning: Objective did not converge. You might want to increase the number of iterations. Duality gap: 8.930792066501112, tolerance: 0.15532413120931293\n",
      "  tol, rng, random, positive)\n",
      "/opt/anaconda3/lib/python3.7/site-packages/sklearn/linear_model/coordinate_descent.py:471: ConvergenceWarning: Objective did not converge. You might want to increase the number of iterations. Duality gap: 17.772287920207987, tolerance: 0.15532413120931293\n",
      "  tol, rng, random, positive)\n",
      "/opt/anaconda3/lib/python3.7/site-packages/sklearn/linear_model/coordinate_descent.py:471: ConvergenceWarning: Objective did not converge. You might want to increase the number of iterations. Duality gap: 36.128374492197736, tolerance: 0.15532413120931293\n",
      "  tol, rng, random, positive)\n",
      "/opt/anaconda3/lib/python3.7/site-packages/sklearn/linear_model/coordinate_descent.py:471: ConvergenceWarning: Objective did not converge. You might want to increase the number of iterations. Duality gap: 0.28929255333980564, tolerance: 0.16536705327960158\n",
      "  tol, rng, random, positive)\n",
      "/opt/anaconda3/lib/python3.7/site-packages/sklearn/linear_model/coordinate_descent.py:471: ConvergenceWarning: Objective did not converge. You might want to increase the number of iterations. Duality gap: 2.164278414268665, tolerance: 0.16536705327960158\n",
      "  tol, rng, random, positive)\n",
      "/opt/anaconda3/lib/python3.7/site-packages/sklearn/linear_model/coordinate_descent.py:471: ConvergenceWarning: Objective did not converge. You might want to increase the number of iterations. Duality gap: 13.63930623654403, tolerance: 0.16536705327960158\n",
      "  tol, rng, random, positive)\n",
      "/opt/anaconda3/lib/python3.7/site-packages/sklearn/linear_model/coordinate_descent.py:471: ConvergenceWarning: Objective did not converge. You might want to increase the number of iterations. Duality gap: 5.489907783336662, tolerance: 0.16536705327960158\n",
      "  tol, rng, random, positive)\n",
      "/opt/anaconda3/lib/python3.7/site-packages/sklearn/linear_model/coordinate_descent.py:471: ConvergenceWarning: Objective did not converge. You might want to increase the number of iterations. Duality gap: 8.37874372094484, tolerance: 0.16536705327960158\n",
      "  tol, rng, random, positive)\n",
      "/opt/anaconda3/lib/python3.7/site-packages/sklearn/linear_model/coordinate_descent.py:471: ConvergenceWarning: Objective did not converge. You might want to increase the number of iterations. Duality gap: 3.6888030989138088, tolerance: 0.1688774944009535\n",
      "  tol, rng, random, positive)\n",
      "/opt/anaconda3/lib/python3.7/site-packages/sklearn/linear_model/coordinate_descent.py:471: ConvergenceWarning: Objective did not converge. You might want to increase the number of iterations. Duality gap: 1.3299570876810094, tolerance: 0.1688774944009535\n",
      "  tol, rng, random, positive)\n",
      "/opt/anaconda3/lib/python3.7/site-packages/sklearn/linear_model/coordinate_descent.py:471: ConvergenceWarning: Objective did not converge. You might want to increase the number of iterations. Duality gap: 11.729641622752979, tolerance: 0.1688774944009535\n",
      "  tol, rng, random, positive)\n"
     ]
    },
    {
     "name": "stdout",
     "output_type": "stream",
     "text": [
      "{'alphas': array([0.0001    , 0.00014384, 0.00020691, 0.00029764, 0.00042813,\n",
      "       0.00061585, 0.00088587, 0.00127427, 0.00183298, 0.00263665,\n",
      "       0.00379269, 0.00545559, 0.0078476 , 0.01128838, 0.01623777,\n",
      "       0.02335721, 0.03359818, 0.0483293 , 0.06951928, 0.1       ]), 'copy_X': True, 'cv': 'warn', 'eps': 0.001, 'fit_intercept': False, 'max_iter': 10000, 'n_alphas': 100, 'n_jobs': None, 'normalize': False, 'positive': False, 'precompute': 'auto', 'random_state': None, 'selection': 'cyclic', 'tol': 0.0001, 'verbose': False}\n",
      "\n",
      "R^2 score for lasso CV model is 0.4741245724104668\n",
      "Mean squared error for lasso CV model is 0.5751736373198165\n",
      "CV model chose alpha: 0.0026366508987303583\n"
     ]
    }
   ],
   "source": [
    "##LASSO with cross validation\n",
    "from sklearn.linear_model import LassoCV\n",
    "l_alphas = np.logspace(-4, -1, 20)\n",
    "lcv = LassoCV(max_iter=10000, fit_intercept=False, alphas=l_alphas)\n",
    "lcv.fit(X_train, y_train)\n",
    "ylcv_pred = lcv.predict(X_test)\n",
    "\n",
    "print(lcv.get_params())\n",
    "print()\n",
    "print(f'R^2 score for lasso CV model is {lcv.score(X_test, y_test)}')\n",
    "print(f'Mean squared error for lasso CV model is {mean_squared_error(y_test, ylcv_pred)}')\n",
    "print(f'CV model chose alpha: {lcv.alpha_}')"
   ]
  },
  {
   "cell_type": "code",
   "execution_count": 39,
   "metadata": {},
   "outputs": [
    {
     "name": "stdout",
     "output_type": "stream",
     "text": [
      "This model kept 102 of 179 features\n",
      "\n",
      "[-5.00481033e-02 -1.21134099e-01  0.00000000e+00 -4.05986370e-02\n",
      " -0.00000000e+00  0.00000000e+00  7.25065256e-02  3.27894660e-01\n",
      " -0.00000000e+00 -5.26537346e-01 -1.16828620e-02  1.31365973e-01\n",
      "  0.00000000e+00  9.47100435e-03  8.22201749e-02  0.00000000e+00\n",
      "  3.05667463e-02 -0.00000000e+00  9.83362370e-02  2.14204034e-02\n",
      " -6.90720893e-02  6.97499515e-02  1.08811511e-02  0.00000000e+00\n",
      "  0.00000000e+00  0.00000000e+00 -4.97562782e-02 -1.60396097e-02\n",
      "  8.09053967e-02  0.00000000e+00 -6.66217978e-02  4.33507530e-02\n",
      "  1.51482008e-01  2.04657323e-02  4.24097465e-03 -0.00000000e+00\n",
      " -0.00000000e+00  2.75819528e-02  0.00000000e+00  0.00000000e+00\n",
      " -6.46749079e-02  6.73891856e-03 -7.69648205e-02 -7.92099878e-02\n",
      "  8.54997512e-02 -0.00000000e+00 -0.00000000e+00 -3.86216433e-02\n",
      " -0.00000000e+00 -1.13581636e-02  0.00000000e+00  2.37049795e-02\n",
      " -0.00000000e+00 -1.51776027e-02  6.06381590e-02 -0.00000000e+00\n",
      "  0.00000000e+00  0.00000000e+00 -5.78707193e-02 -3.71642745e-02\n",
      "  0.00000000e+00 -1.10637127e-01  0.00000000e+00  0.00000000e+00\n",
      "  0.00000000e+00  0.00000000e+00 -2.53413851e-02 -5.28318669e-02\n",
      " -2.76663694e-02  8.90001513e-02  1.66515760e-01 -2.61958560e-02\n",
      " -0.00000000e+00 -3.76156547e-02 -0.00000000e+00 -4.08566854e-01\n",
      "  0.00000000e+00 -0.00000000e+00  8.76442289e-02 -8.43022924e-04\n",
      "  0.00000000e+00  5.35929310e-02 -1.57228494e-01  0.00000000e+00\n",
      "  8.96879709e-02  2.34840133e-02 -9.91812268e-02  5.43331156e-02\n",
      "  0.00000000e+00 -2.00212258e-02 -0.00000000e+00 -1.34504938e-01\n",
      " -1.81669914e-01 -0.00000000e+00  4.90911488e-02 -4.97917198e-03\n",
      " -0.00000000e+00 -1.07096576e-02 -9.88722874e-02 -2.21566187e-02\n",
      " -2.00303521e-02  3.85573382e-02  0.00000000e+00  5.14098476e-02\n",
      "  0.00000000e+00 -6.10225310e-03  0.00000000e+00  6.48462856e-02\n",
      " -0.00000000e+00 -0.00000000e+00  4.18639952e-01  5.48392730e-02\n",
      "  1.58698923e-01  0.00000000e+00 -4.43411302e-02 -0.00000000e+00\n",
      " -0.00000000e+00  0.00000000e+00 -1.02633445e-01 -0.00000000e+00\n",
      "  0.00000000e+00  3.45661073e-03  7.30220924e-02 -2.11472794e-02\n",
      " -7.56856855e-02 -0.00000000e+00  0.00000000e+00 -0.00000000e+00\n",
      " -0.00000000e+00 -0.00000000e+00  1.19232066e-01 -0.00000000e+00\n",
      "  0.00000000e+00 -0.00000000e+00  0.00000000e+00 -0.00000000e+00\n",
      "  0.00000000e+00  0.00000000e+00 -0.00000000e+00  0.00000000e+00\n",
      " -0.00000000e+00 -6.87677432e-05  0.00000000e+00  1.15210711e-01\n",
      " -0.00000000e+00  0.00000000e+00  1.62163849e-01  3.36524204e-02\n",
      " -8.67200999e-02 -0.00000000e+00 -2.06089870e-01  0.00000000e+00\n",
      "  8.70329181e-02  1.32339640e-01  0.00000000e+00 -3.50916056e-02\n",
      "  7.72698987e-02 -1.46096286e-02 -1.55503592e-02  1.69163934e-01\n",
      "  1.75138222e-01  0.00000000e+00 -0.00000000e+00  7.90696123e-02\n",
      " -2.94866577e-03  0.00000000e+00  0.00000000e+00  5.25693138e-02\n",
      " -2.14559387e-02 -0.00000000e+00  4.88487778e-02 -1.40288622e-01\n",
      "  2.71974199e-02 -1.45087074e-01  3.13201999e-02 -0.00000000e+00\n",
      "  0.00000000e+00  1.24215090e-02 -4.45713279e-02]\n"
     ]
    }
   ],
   "source": [
    "## MODEL COEFFICIENTS\n",
    "print(f'This model kept {sum(lcv.coef_ != 0)} of {X_train.shape[1]} features')\n",
    "print()\n",
    "print(lcv.coef_)"
   ]
  },
  {
   "cell_type": "code",
   "execution_count": 40,
   "metadata": {},
   "outputs": [],
   "source": [
    "## PLOT Lasso models"
   ]
  },
  {
   "cell_type": "code",
   "execution_count": 41,
   "metadata": {},
   "outputs": [
    {
     "name": "stderr",
     "output_type": "stream",
     "text": [
      "/opt/anaconda3/lib/python3.7/site-packages/sklearn/linear_model/coordinate_descent.py:475: ConvergenceWarning: Objective did not converge. You might want to increase the number of iterations. Duality gap: 387.34052722398604, tolerance: 0.24477487393674652\n",
      "  positive)\n",
      "/opt/anaconda3/lib/python3.7/site-packages/sklearn/linear_model/coordinate_descent.py:475: ConvergenceWarning: Objective did not converge. You might want to increase the number of iterations. Duality gap: 350.53547218875724, tolerance: 0.24477487393674652\n",
      "  positive)\n",
      "/opt/anaconda3/lib/python3.7/site-packages/sklearn/linear_model/coordinate_descent.py:475: ConvergenceWarning: Objective did not converge. You might want to increase the number of iterations. Duality gap: 267.5522576139476, tolerance: 0.24477487393674652\n",
      "  positive)\n",
      "/opt/anaconda3/lib/python3.7/site-packages/sklearn/linear_model/coordinate_descent.py:475: ConvergenceWarning: Objective did not converge. You might want to increase the number of iterations. Duality gap: 166.6101975252992, tolerance: 0.24477487393674652\n",
      "  positive)\n",
      "/opt/anaconda3/lib/python3.7/site-packages/sklearn/linear_model/coordinate_descent.py:475: ConvergenceWarning: Objective did not converge. You might want to increase the number of iterations. Duality gap: 76.3907319877203, tolerance: 0.24477487393674652\n",
      "  positive)\n",
      "/opt/anaconda3/lib/python3.7/site-packages/sklearn/linear_model/coordinate_descent.py:475: ConvergenceWarning: Objective did not converge. You might want to increase the number of iterations. Duality gap: 29.13501119370335, tolerance: 0.24477487393674652\n",
      "  positive)\n",
      "/opt/anaconda3/lib/python3.7/site-packages/sklearn/linear_model/coordinate_descent.py:475: ConvergenceWarning: Objective did not converge. You might want to increase the number of iterations. Duality gap: 3.627168559254187, tolerance: 0.24477487393674652\n",
      "  positive)\n",
      "/opt/anaconda3/lib/python3.7/site-packages/sklearn/linear_model/coordinate_descent.py:1100: DataConversionWarning: A column-vector y was passed when a 1d array was expected. Please change the shape of y to (n_samples, ), for example using ravel().\n",
      "  y = column_or_1d(y, warn=True)\n",
      "/opt/anaconda3/lib/python3.7/site-packages/sklearn/model_selection/_split.py:1978: FutureWarning: The default value of cv will change from 3 to 5 in version 0.22. Specify it explicitly to silence this warning.\n",
      "  warnings.warn(CV_WARNING, FutureWarning)\n",
      "/opt/anaconda3/lib/python3.7/site-packages/sklearn/linear_model/coordinate_descent.py:471: ConvergenceWarning: Objective did not converge. You might want to increase the number of iterations. Duality gap: 0.8413270713473366, tolerance: 0.15530663498909103\n",
      "  tol, rng, random, positive)\n",
      "/opt/anaconda3/lib/python3.7/site-packages/sklearn/linear_model/coordinate_descent.py:471: ConvergenceWarning: Objective did not converge. You might want to increase the number of iterations. Duality gap: 0.9580108124788467, tolerance: 0.15530663498909103\n",
      "  tol, rng, random, positive)\n",
      "/opt/anaconda3/lib/python3.7/site-packages/sklearn/linear_model/coordinate_descent.py:471: ConvergenceWarning: Objective did not converge. You might want to increase the number of iterations. Duality gap: 15.230967041657209, tolerance: 0.15530663498909103\n",
      "  tol, rng, random, positive)\n",
      "/opt/anaconda3/lib/python3.7/site-packages/sklearn/linear_model/coordinate_descent.py:471: ConvergenceWarning: Objective did not converge. You might want to increase the number of iterations. Duality gap: 28.315260125750115, tolerance: 0.15530663498909103\n",
      "  tol, rng, random, positive)\n",
      "/opt/anaconda3/lib/python3.7/site-packages/sklearn/linear_model/coordinate_descent.py:471: ConvergenceWarning: Objective did not converge. You might want to increase the number of iterations. Duality gap: 109.9980490295606, tolerance: 0.15530663498909103\n",
      "  tol, rng, random, positive)\n",
      "/opt/anaconda3/lib/python3.7/site-packages/sklearn/linear_model/coordinate_descent.py:471: ConvergenceWarning: Objective did not converge. You might want to increase the number of iterations. Duality gap: 165.116738317875, tolerance: 0.15530663498909103\n",
      "  tol, rng, random, positive)\n",
      "/opt/anaconda3/lib/python3.7/site-packages/sklearn/linear_model/coordinate_descent.py:471: ConvergenceWarning: Objective did not converge. You might want to increase the number of iterations. Duality gap: 207.51001125492874, tolerance: 0.15530663498909103\n",
      "  tol, rng, random, positive)\n",
      "/opt/anaconda3/lib/python3.7/site-packages/sklearn/linear_model/coordinate_descent.py:471: ConvergenceWarning: Objective did not converge. You might want to increase the number of iterations. Duality gap: 234.13444170771666, tolerance: 0.15530663498909103\n",
      "  tol, rng, random, positive)\n",
      "/opt/anaconda3/lib/python3.7/site-packages/sklearn/linear_model/coordinate_descent.py:471: ConvergenceWarning: Objective did not converge. You might want to increase the number of iterations. Duality gap: 2.9462395277224687, tolerance: 0.1653662035121701\n",
      "  tol, rng, random, positive)\n",
      "/opt/anaconda3/lib/python3.7/site-packages/sklearn/linear_model/coordinate_descent.py:471: ConvergenceWarning: Objective did not converge. You might want to increase the number of iterations. Duality gap: 3.5363626995688264, tolerance: 0.1653662035121701\n",
      "  tol, rng, random, positive)\n",
      "/opt/anaconda3/lib/python3.7/site-packages/sklearn/linear_model/coordinate_descent.py:471: ConvergenceWarning: Objective did not converge. You might want to increase the number of iterations. Duality gap: 10.342791762657612, tolerance: 0.1653662035121701\n",
      "  tol, rng, random, positive)\n",
      "/opt/anaconda3/lib/python3.7/site-packages/sklearn/linear_model/coordinate_descent.py:471: ConvergenceWarning: Objective did not converge. You might want to increase the number of iterations. Duality gap: 16.685636948156116, tolerance: 0.1653662035121701\n",
      "  tol, rng, random, positive)\n",
      "/opt/anaconda3/lib/python3.7/site-packages/sklearn/linear_model/coordinate_descent.py:471: ConvergenceWarning: Objective did not converge. You might want to increase the number of iterations. Duality gap: 28.19853861697038, tolerance: 0.1653662035121701\n",
      "  tol, rng, random, positive)\n",
      "/opt/anaconda3/lib/python3.7/site-packages/sklearn/linear_model/coordinate_descent.py:471: ConvergenceWarning: Objective did not converge. You might want to increase the number of iterations. Duality gap: 73.17172227862551, tolerance: 0.1653662035121701\n",
      "  tol, rng, random, positive)\n",
      "/opt/anaconda3/lib/python3.7/site-packages/sklearn/linear_model/coordinate_descent.py:471: ConvergenceWarning: Objective did not converge. You might want to increase the number of iterations. Duality gap: 116.51675507467934, tolerance: 0.1653662035121701\n",
      "  tol, rng, random, positive)\n",
      "/opt/anaconda3/lib/python3.7/site-packages/sklearn/linear_model/coordinate_descent.py:471: ConvergenceWarning: Objective did not converge. You might want to increase the number of iterations. Duality gap: 142.16181124367841, tolerance: 0.1653662035121701\n",
      "  tol, rng, random, positive)\n",
      "/opt/anaconda3/lib/python3.7/site-packages/sklearn/linear_model/coordinate_descent.py:471: ConvergenceWarning: Objective did not converge. You might want to increase the number of iterations. Duality gap: 174.00810520870476, tolerance: 0.1653662035121701\n",
      "  tol, rng, random, positive)\n",
      "/opt/anaconda3/lib/python3.7/site-packages/sklearn/linear_model/coordinate_descent.py:471: ConvergenceWarning: Objective did not converge. You might want to increase the number of iterations. Duality gap: 0.45064288008063613, tolerance: 0.16887158238450253\n",
      "  tol, rng, random, positive)\n",
      "/opt/anaconda3/lib/python3.7/site-packages/sklearn/linear_model/coordinate_descent.py:471: ConvergenceWarning: Objective did not converge. You might want to increase the number of iterations. Duality gap: 2.105320915656648, tolerance: 0.16887158238450253\n",
      "  tol, rng, random, positive)\n",
      "/opt/anaconda3/lib/python3.7/site-packages/sklearn/linear_model/coordinate_descent.py:471: ConvergenceWarning: Objective did not converge. You might want to increase the number of iterations. Duality gap: 5.454205963652157, tolerance: 0.16887158238450253\n",
      "  tol, rng, random, positive)\n",
      "/opt/anaconda3/lib/python3.7/site-packages/sklearn/linear_model/coordinate_descent.py:471: ConvergenceWarning: Objective did not converge. You might want to increase the number of iterations. Duality gap: 13.56781712551333, tolerance: 0.16887158238450253\n",
      "  tol, rng, random, positive)\n",
      "/opt/anaconda3/lib/python3.7/site-packages/sklearn/linear_model/coordinate_descent.py:471: ConvergenceWarning: Objective did not converge. You might want to increase the number of iterations. Duality gap: 43.9011016303449, tolerance: 0.16887158238450253\n",
      "  tol, rng, random, positive)\n",
      "/opt/anaconda3/lib/python3.7/site-packages/sklearn/linear_model/coordinate_descent.py:471: ConvergenceWarning: Objective did not converge. You might want to increase the number of iterations. Duality gap: 61.65189606942175, tolerance: 0.16887158238450253\n",
      "  tol, rng, random, positive)\n",
      "/opt/anaconda3/lib/python3.7/site-packages/sklearn/linear_model/coordinate_descent.py:471: ConvergenceWarning: Objective did not converge. You might want to increase the number of iterations. Duality gap: 79.24791192985134, tolerance: 0.16887158238450253\n",
      "  tol, rng, random, positive)\n",
      "/opt/anaconda3/lib/python3.7/site-packages/sklearn/linear_model/coordinate_descent.py:471: ConvergenceWarning: Objective did not converge. You might want to increase the number of iterations. Duality gap: 103.10184320823049, tolerance: 0.16887158238450253\n",
      "  tol, rng, random, positive)\n"
     ]
    },
    {
     "data": {
      "image/png": "[encoded data removed]",
      "text/plain": [
       "<Figure size 720x288 with 2 Axes>"
      ]
     },
     "metadata": {
      "needs_background": "light"
     },
     "output_type": "display_data"
    }
   ],
   "source": [
    "pr.lasso_plots(l_alphas, X_train, y_train, X_test, y_test)"
   ]
  },
  {
   "cell_type": "code",
   "execution_count": 42,
   "metadata": {},
   "outputs": [],
   "source": [
    "## ELASTIC NET"
   ]
  },
  {
   "cell_type": "code",
   "execution_count": 43,
   "metadata": {},
   "outputs": [
    {
     "name": "stdout",
     "output_type": "stream",
     "text": [
      "{'alpha': 1.0, 'copy_X': True, 'fit_intercept': False, 'l1_ratio': 0.5, 'max_iter': 1000, 'normalize': False, 'positive': False, 'precompute': False, 'random_state': None, 'selection': 'cyclic', 'tol': 0.0001, 'warm_start': False}\n",
      "\n",
      "R^2 score for Elastic Net model is -0.0005518830981687817\n",
      "Mean squared error for Elastic Net model is 1.0943486531908453\n"
     ]
    }
   ],
   "source": [
    "from sklearn.linear_model import ElasticNet\n",
    "elasticNet = ElasticNet(fit_intercept=False, alpha=1.0, l1_ratio=0.5)\n",
    "elasticNet.fit(X_train, y_train)\n",
    "ye_pred = elasticNet.predict(X_test)\n",
    "\n",
    "print(elasticNet.get_params())\n",
    "print()\n",
    "print(f'R^2 score for Elastic Net model is {elasticNet.score(X_test, y_test)}')\n",
    "print(f'Mean squared error for Elastic Net model is {mean_squared_error(y_test, ye_pred)}')"
   ]
  },
  {
   "cell_type": "code",
   "execution_count": 44,
   "metadata": {},
   "outputs": [
    {
     "name": "stdout",
     "output_type": "stream",
     "text": [
      "This model kept 0 of 179 features\n",
      "\n",
      "[-0. -0. -0. -0. -0. -0.  0.  0.  0. -0.  0.  0.  0. -0.  0. -0. -0. -0.\n",
      " -0.  0. -0.  0.  0. -0.  0. -0. -0. -0. -0. -0. -0.  0.  0. -0. -0. -0.\n",
      " -0. -0. -0. -0. -0.  0. -0. -0.  0. -0. -0.  0. -0.  0. -0.  0. -0.  0.\n",
      " -0. -0. -0.  0. -0.  0. -0. -0. -0. -0.  0. -0.  0. -0.  0.  0. -0.  0.\n",
      " -0.  0. -0.  0. -0.  0. -0. -0. -0.  0. -0. -0.  0. -0.  0.  0.  0. -0.\n",
      " -0. -0.  0. -0.  0.  0. -0. -0. -0.  0.  0. -0. -0. -0. -0. -0. -0.  0.\n",
      " -0. -0.  0. -0.  0. -0. -0. -0. -0. -0.  0. -0. -0. -0.  0. -0. -0.  0.\n",
      " -0. -0. -0. -0. -0. -0. -0. -0. -0. -0. -0. -0. -0. -0. -0. -0. -0.  0.\n",
      " -0.  0. -0.  0. -0.  0.  0.  0. -0.  0.  0. -0.  0.  0. -0.  0.  0.  0.\n",
      " -0.  0. -0.  0.  0.  0. -0.  0. -0.  0.  0. -0.  0.  0.  0.  0. -0.]\n"
     ]
    }
   ],
   "source": [
    "## MODEL COEFFICIENTS\n",
    "print(f'This model kept {sum(elasticNet.coef_ != 0)} of {X_train.shape[1]} features')\n",
    "print()\n",
    "print(elasticNet.coef_)"
   ]
  },
  {
   "cell_type": "code",
   "execution_count": 45,
   "metadata": {},
   "outputs": [],
   "source": [
    "## ELASTIC NET CV\n",
    "from sklearn.linear_model import ElasticNetCV"
   ]
  },
  {
   "cell_type": "code",
   "execution_count": 46,
   "metadata": {},
   "outputs": [
    {
     "name": "stderr",
     "output_type": "stream",
     "text": [
      "/opt/anaconda3/lib/python3.7/site-packages/sklearn/linear_model/coordinate_descent.py:1100: DataConversionWarning: A column-vector y was passed when a 1d array was expected. Please change the shape of y to (n_samples, ), for example using ravel().\n",
      "  y = column_or_1d(y, warn=True)\n",
      "/opt/anaconda3/lib/python3.7/site-packages/sklearn/model_selection/_split.py:1978: FutureWarning: The default value of cv will change from 3 to 5 in version 0.22. Specify it explicitly to silence this warning.\n",
      "  warnings.warn(CV_WARNING, FutureWarning)\n",
      "/opt/anaconda3/lib/python3.7/site-packages/sklearn/linear_model/coordinate_descent.py:471: ConvergenceWarning: Objective did not converge. You might want to increase the number of iterations. Duality gap: 0.2303812353053445, tolerance: 0.15532413120931293\n",
      "  tol, rng, random, positive)\n",
      "/opt/anaconda3/lib/python3.7/site-packages/sklearn/linear_model/coordinate_descent.py:471: ConvergenceWarning: Objective did not converge. You might want to increase the number of iterations. Duality gap: 0.27287113482213954, tolerance: 0.15532413120931293\n",
      "  tol, rng, random, positive)\n",
      "/opt/anaconda3/lib/python3.7/site-packages/sklearn/linear_model/coordinate_descent.py:471: ConvergenceWarning: Objective did not converge. You might want to increase the number of iterations. Duality gap: 1.4388482226696624, tolerance: 0.15532413120931293\n",
      "  tol, rng, random, positive)\n",
      "/opt/anaconda3/lib/python3.7/site-packages/sklearn/linear_model/coordinate_descent.py:471: ConvergenceWarning: Objective did not converge. You might want to increase the number of iterations. Duality gap: 0.3845510001333423, tolerance: 0.15532413120931293\n",
      "  tol, rng, random, positive)\n",
      "/opt/anaconda3/lib/python3.7/site-packages/sklearn/linear_model/coordinate_descent.py:471: ConvergenceWarning: Objective did not converge. You might want to increase the number of iterations. Duality gap: 1.7874310012106207, tolerance: 0.15532413120931293\n",
      "  tol, rng, random, positive)\n",
      "/opt/anaconda3/lib/python3.7/site-packages/sklearn/linear_model/coordinate_descent.py:471: ConvergenceWarning: Objective did not converge. You might want to increase the number of iterations. Duality gap: 2.581596119458254, tolerance: 0.15532413120931293\n",
      "  tol, rng, random, positive)\n",
      "/opt/anaconda3/lib/python3.7/site-packages/sklearn/linear_model/coordinate_descent.py:471: ConvergenceWarning: Objective did not converge. You might want to increase the number of iterations. Duality gap: 2.7822909301064556, tolerance: 0.15532413120931293\n",
      "  tol, rng, random, positive)\n",
      "/opt/anaconda3/lib/python3.7/site-packages/sklearn/linear_model/coordinate_descent.py:471: ConvergenceWarning: Objective did not converge. You might want to increase the number of iterations. Duality gap: 7.3815758774480855, tolerance: 0.15532413120931293\n",
      "  tol, rng, random, positive)\n",
      "/opt/anaconda3/lib/python3.7/site-packages/sklearn/linear_model/coordinate_descent.py:471: ConvergenceWarning: Objective did not converge. You might want to increase the number of iterations. Duality gap: 13.483513852429041, tolerance: 0.15532413120931293\n",
      "  tol, rng, random, positive)\n",
      "/opt/anaconda3/lib/python3.7/site-packages/sklearn/linear_model/coordinate_descent.py:471: ConvergenceWarning: Objective did not converge. You might want to increase the number of iterations. Duality gap: 27.34586404622246, tolerance: 0.15532413120931293\n",
      "  tol, rng, random, positive)\n",
      "/opt/anaconda3/lib/python3.7/site-packages/sklearn/linear_model/coordinate_descent.py:471: ConvergenceWarning: Objective did not converge. You might want to increase the number of iterations. Duality gap: 61.92068756149388, tolerance: 0.15532413120931293\n",
      "  tol, rng, random, positive)\n",
      "/opt/anaconda3/lib/python3.7/site-packages/sklearn/linear_model/coordinate_descent.py:471: ConvergenceWarning: Objective did not converge. You might want to increase the number of iterations. Duality gap: 98.66247568219484, tolerance: 0.15532413120931293\n",
      "  tol, rng, random, positive)\n",
      "/opt/anaconda3/lib/python3.7/site-packages/sklearn/linear_model/coordinate_descent.py:471: ConvergenceWarning: Objective did not converge. You might want to increase the number of iterations. Duality gap: 0.3375456260645251, tolerance: 0.16536705327960158\n",
      "  tol, rng, random, positive)\n",
      "/opt/anaconda3/lib/python3.7/site-packages/sklearn/linear_model/coordinate_descent.py:471: ConvergenceWarning: Objective did not converge. You might want to increase the number of iterations. Duality gap: 1.545702716892265, tolerance: 0.16536705327960158\n",
      "  tol, rng, random, positive)\n",
      "/opt/anaconda3/lib/python3.7/site-packages/sklearn/linear_model/coordinate_descent.py:471: ConvergenceWarning: Objective did not converge. You might want to increase the number of iterations. Duality gap: 1.4359998884654033, tolerance: 0.16536705327960158\n",
      "  tol, rng, random, positive)\n",
      "/opt/anaconda3/lib/python3.7/site-packages/sklearn/linear_model/coordinate_descent.py:471: ConvergenceWarning: Objective did not converge. You might want to increase the number of iterations. Duality gap: 2.664483121474177, tolerance: 0.16536705327960158\n",
      "  tol, rng, random, positive)\n",
      "/opt/anaconda3/lib/python3.7/site-packages/sklearn/linear_model/coordinate_descent.py:471: ConvergenceWarning: Objective did not converge. You might want to increase the number of iterations. Duality gap: 5.4360895654211845, tolerance: 0.16536705327960158\n",
      "  tol, rng, random, positive)\n",
      "/opt/anaconda3/lib/python3.7/site-packages/sklearn/linear_model/coordinate_descent.py:471: ConvergenceWarning: Objective did not converge. You might want to increase the number of iterations. Duality gap: 3.8477871627256945, tolerance: 0.16536705327960158\n",
      "  tol, rng, random, positive)\n",
      "/opt/anaconda3/lib/python3.7/site-packages/sklearn/linear_model/coordinate_descent.py:471: ConvergenceWarning: Objective did not converge. You might want to increase the number of iterations. Duality gap: 7.236732393421903, tolerance: 0.16536705327960158\n",
      "  tol, rng, random, positive)\n",
      "/opt/anaconda3/lib/python3.7/site-packages/sklearn/linear_model/coordinate_descent.py:471: ConvergenceWarning: Objective did not converge. You might want to increase the number of iterations. Duality gap: 19.850904565766996, tolerance: 0.16536705327960158\n",
      "  tol, rng, random, positive)\n",
      "/opt/anaconda3/lib/python3.7/site-packages/sklearn/linear_model/coordinate_descent.py:471: ConvergenceWarning: Objective did not converge. You might want to increase the number of iterations. Duality gap: 28.202422323009387, tolerance: 0.16536705327960158\n",
      "  tol, rng, random, positive)\n",
      "/opt/anaconda3/lib/python3.7/site-packages/sklearn/linear_model/coordinate_descent.py:471: ConvergenceWarning: Objective did not converge. You might want to increase the number of iterations. Duality gap: 36.47391359075374, tolerance: 0.16536705327960158\n",
      "  tol, rng, random, positive)\n",
      "/opt/anaconda3/lib/python3.7/site-packages/sklearn/linear_model/coordinate_descent.py:471: ConvergenceWarning: Objective did not converge. You might want to increase the number of iterations. Duality gap: 58.85472525539336, tolerance: 0.16536705327960158\n",
      "  tol, rng, random, positive)\n",
      "/opt/anaconda3/lib/python3.7/site-packages/sklearn/linear_model/coordinate_descent.py:471: ConvergenceWarning: Objective did not converge. You might want to increase the number of iterations. Duality gap: 94.39900061669118, tolerance: 0.16536705327960158\n",
      "  tol, rng, random, positive)\n",
      "/opt/anaconda3/lib/python3.7/site-packages/sklearn/linear_model/coordinate_descent.py:471: ConvergenceWarning: Objective did not converge. You might want to increase the number of iterations. Duality gap: 117.2377587337055, tolerance: 0.16536705327960158\n",
      "  tol, rng, random, positive)\n",
      "/opt/anaconda3/lib/python3.7/site-packages/sklearn/linear_model/coordinate_descent.py:471: ConvergenceWarning: Objective did not converge. You might want to increase the number of iterations. Duality gap: 0.5715695282018487, tolerance: 0.1688774944009535\n",
      "  tol, rng, random, positive)\n",
      "/opt/anaconda3/lib/python3.7/site-packages/sklearn/linear_model/coordinate_descent.py:471: ConvergenceWarning: Objective did not converge. You might want to increase the number of iterations. Duality gap: 1.2535342493112012, tolerance: 0.1688774944009535\n",
      "  tol, rng, random, positive)\n",
      "/opt/anaconda3/lib/python3.7/site-packages/sklearn/linear_model/coordinate_descent.py:471: ConvergenceWarning: Objective did not converge. You might want to increase the number of iterations. Duality gap: 1.0276059894029004, tolerance: 0.1688774944009535\n",
      "  tol, rng, random, positive)\n",
      "/opt/anaconda3/lib/python3.7/site-packages/sklearn/linear_model/coordinate_descent.py:471: ConvergenceWarning: Objective did not converge. You might want to increase the number of iterations. Duality gap: 8.025587842380105, tolerance: 0.1688774944009535\n",
      "  tol, rng, random, positive)\n",
      "/opt/anaconda3/lib/python3.7/site-packages/sklearn/linear_model/coordinate_descent.py:471: ConvergenceWarning: Objective did not converge. You might want to increase the number of iterations. Duality gap: 5.09385619196496, tolerance: 0.1688774944009535\n",
      "  tol, rng, random, positive)\n",
      "/opt/anaconda3/lib/python3.7/site-packages/sklearn/linear_model/coordinate_descent.py:471: ConvergenceWarning: Objective did not converge. You might want to increase the number of iterations. Duality gap: 4.528528709982993, tolerance: 0.1688774944009535\n",
      "  tol, rng, random, positive)\n",
      "/opt/anaconda3/lib/python3.7/site-packages/sklearn/linear_model/coordinate_descent.py:471: ConvergenceWarning: Objective did not converge. You might want to increase the number of iterations. Duality gap: 8.136912958435573, tolerance: 0.1688774944009535\n",
      "  tol, rng, random, positive)\n",
      "/opt/anaconda3/lib/python3.7/site-packages/sklearn/linear_model/coordinate_descent.py:471: ConvergenceWarning: Objective did not converge. You might want to increase the number of iterations. Duality gap: 7.7184128490519015, tolerance: 0.1688774944009535\n",
      "  tol, rng, random, positive)\n",
      "/opt/anaconda3/lib/python3.7/site-packages/sklearn/linear_model/coordinate_descent.py:471: ConvergenceWarning: Objective did not converge. You might want to increase the number of iterations. Duality gap: 8.6043389080844, tolerance: 0.1688774944009535\n",
      "  tol, rng, random, positive)\n",
      "/opt/anaconda3/lib/python3.7/site-packages/sklearn/linear_model/coordinate_descent.py:471: ConvergenceWarning: Objective did not converge. You might want to increase the number of iterations. Duality gap: 15.751156583159172, tolerance: 0.1688774944009535\n",
      "  tol, rng, random, positive)\n",
      "/opt/anaconda3/lib/python3.7/site-packages/sklearn/linear_model/coordinate_descent.py:471: ConvergenceWarning: Objective did not converge. You might want to increase the number of iterations. Duality gap: 38.358513233046494, tolerance: 0.1688774944009535\n",
      "  tol, rng, random, positive)\n",
      "/opt/anaconda3/lib/python3.7/site-packages/sklearn/linear_model/coordinate_descent.py:471: ConvergenceWarning: Objective did not converge. You might want to increase the number of iterations. Duality gap: 49.384424113830164, tolerance: 0.1688774944009535\n",
      "  tol, rng, random, positive)\n",
      "/opt/anaconda3/lib/python3.7/site-packages/sklearn/linear_model/coordinate_descent.py:471: ConvergenceWarning: Objective did not converge. You might want to increase the number of iterations. Duality gap: 0.49105244260317704, tolerance: 0.15532413120931293\n",
      "  tol, rng, random, positive)\n",
      "/opt/anaconda3/lib/python3.7/site-packages/sklearn/linear_model/coordinate_descent.py:471: ConvergenceWarning: Objective did not converge. You might want to increase the number of iterations. Duality gap: 0.6310384564363858, tolerance: 0.15532413120931293\n",
      "  tol, rng, random, positive)\n",
      "/opt/anaconda3/lib/python3.7/site-packages/sklearn/linear_model/coordinate_descent.py:471: ConvergenceWarning: Objective did not converge. You might want to increase the number of iterations. Duality gap: 1.4625487920229716, tolerance: 0.15532413120931293\n",
      "  tol, rng, random, positive)\n",
      "/opt/anaconda3/lib/python3.7/site-packages/sklearn/linear_model/coordinate_descent.py:471: ConvergenceWarning: Objective did not converge. You might want to increase the number of iterations. Duality gap: 0.9711957484229288, tolerance: 0.15532413120931293\n",
      "  tol, rng, random, positive)\n",
      "/opt/anaconda3/lib/python3.7/site-packages/sklearn/linear_model/coordinate_descent.py:471: ConvergenceWarning: Objective did not converge. You might want to increase the number of iterations. Duality gap: 3.9982825045144637, tolerance: 0.15532413120931293\n",
      "  tol, rng, random, positive)\n",
      "/opt/anaconda3/lib/python3.7/site-packages/sklearn/linear_model/coordinate_descent.py:471: ConvergenceWarning: Objective did not converge. You might want to increase the number of iterations. Duality gap: 13.862350777507572, tolerance: 0.15532413120931293\n",
      "  tol, rng, random, positive)\n",
      "/opt/anaconda3/lib/python3.7/site-packages/sklearn/linear_model/coordinate_descent.py:471: ConvergenceWarning: Objective did not converge. You might want to increase the number of iterations. Duality gap: 41.075839394679406, tolerance: 0.15532413120931293\n",
      "  tol, rng, random, positive)\n",
      "/opt/anaconda3/lib/python3.7/site-packages/sklearn/linear_model/coordinate_descent.py:471: ConvergenceWarning: Objective did not converge. You might want to increase the number of iterations. Duality gap: 1.1098046587363797, tolerance: 0.16536705327960158\n",
      "  tol, rng, random, positive)\n",
      "/opt/anaconda3/lib/python3.7/site-packages/sklearn/linear_model/coordinate_descent.py:471: ConvergenceWarning: Objective did not converge. You might want to increase the number of iterations. Duality gap: 3.304941161456327, tolerance: 0.16536705327960158\n",
      "  tol, rng, random, positive)\n",
      "/opt/anaconda3/lib/python3.7/site-packages/sklearn/linear_model/coordinate_descent.py:471: ConvergenceWarning: Objective did not converge. You might want to increase the number of iterations. Duality gap: 1.9307913044616498, tolerance: 0.16536705327960158\n",
      "  tol, rng, random, positive)\n",
      "/opt/anaconda3/lib/python3.7/site-packages/sklearn/linear_model/coordinate_descent.py:471: ConvergenceWarning: Objective did not converge. You might want to increase the number of iterations. Duality gap: 3.966182819693472, tolerance: 0.16536705327960158\n",
      "  tol, rng, random, positive)\n",
      "/opt/anaconda3/lib/python3.7/site-packages/sklearn/linear_model/coordinate_descent.py:471: ConvergenceWarning: Objective did not converge. You might want to increase the number of iterations. Duality gap: 8.991585783258529, tolerance: 0.16536705327960158\n",
      "  tol, rng, random, positive)\n",
      "/opt/anaconda3/lib/python3.7/site-packages/sklearn/linear_model/coordinate_descent.py:471: ConvergenceWarning: Objective did not converge. You might want to increase the number of iterations. Duality gap: 6.551608902975772, tolerance: 0.16536705327960158\n",
      "  tol, rng, random, positive)\n",
      "/opt/anaconda3/lib/python3.7/site-packages/sklearn/linear_model/coordinate_descent.py:471: ConvergenceWarning: Objective did not converge. You might want to increase the number of iterations. Duality gap: 11.663205520045608, tolerance: 0.16536705327960158\n",
      "  tol, rng, random, positive)\n",
      "/opt/anaconda3/lib/python3.7/site-packages/sklearn/linear_model/coordinate_descent.py:471: ConvergenceWarning: Objective did not converge. You might want to increase the number of iterations. Duality gap: 17.003917155619888, tolerance: 0.16536705327960158\n",
      "  tol, rng, random, positive)\n",
      "/opt/anaconda3/lib/python3.7/site-packages/sklearn/linear_model/coordinate_descent.py:471: ConvergenceWarning: Objective did not converge. You might want to increase the number of iterations. Duality gap: 28.428488949910047, tolerance: 0.16536705327960158\n",
      "  tol, rng, random, positive)\n",
      "/opt/anaconda3/lib/python3.7/site-packages/sklearn/linear_model/coordinate_descent.py:471: ConvergenceWarning: Objective did not converge. You might want to increase the number of iterations. Duality gap: 0.3317471277774757, tolerance: 0.1688774944009535\n",
      "  tol, rng, random, positive)\n",
      "/opt/anaconda3/lib/python3.7/site-packages/sklearn/linear_model/coordinate_descent.py:471: ConvergenceWarning: Objective did not converge. You might want to increase the number of iterations. Duality gap: 2.574432014576473, tolerance: 0.1688774944009535\n",
      "  tol, rng, random, positive)\n",
      "/opt/anaconda3/lib/python3.7/site-packages/sklearn/linear_model/coordinate_descent.py:471: ConvergenceWarning: Objective did not converge. You might want to increase the number of iterations. Duality gap: 1.9098693109785927, tolerance: 0.1688774944009535\n",
      "  tol, rng, random, positive)\n",
      "/opt/anaconda3/lib/python3.7/site-packages/sklearn/linear_model/coordinate_descent.py:471: ConvergenceWarning: Objective did not converge. You might want to increase the number of iterations. Duality gap: 1.4959045779341977, tolerance: 0.1688774944009535\n",
      "  tol, rng, random, positive)\n",
      "/opt/anaconda3/lib/python3.7/site-packages/sklearn/linear_model/coordinate_descent.py:471: ConvergenceWarning: Objective did not converge. You might want to increase the number of iterations. Duality gap: 1.5550599589964804, tolerance: 0.1688774944009535\n",
      "  tol, rng, random, positive)\n",
      "/opt/anaconda3/lib/python3.7/site-packages/sklearn/linear_model/coordinate_descent.py:471: ConvergenceWarning: Objective did not converge. You might want to increase the number of iterations. Duality gap: 1.5513557163756104, tolerance: 0.1688774944009535\n",
      "  tol, rng, random, positive)\n",
      "/opt/anaconda3/lib/python3.7/site-packages/sklearn/linear_model/coordinate_descent.py:471: ConvergenceWarning: Objective did not converge. You might want to increase the number of iterations. Duality gap: 4.2423510818950945, tolerance: 0.1688774944009535\n",
      "  tol, rng, random, positive)\n",
      "/opt/anaconda3/lib/python3.7/site-packages/sklearn/linear_model/coordinate_descent.py:471: ConvergenceWarning: Objective did not converge. You might want to increase the number of iterations. Duality gap: 7.123101812434925, tolerance: 0.1688774944009535\n",
      "  tol, rng, random, positive)\n",
      "/opt/anaconda3/lib/python3.7/site-packages/sklearn/linear_model/coordinate_descent.py:471: ConvergenceWarning: Objective did not converge. You might want to increase the number of iterations. Duality gap: 0.19529288079945673, tolerance: 0.15532413120931293\n",
      "  tol, rng, random, positive)\n",
      "/opt/anaconda3/lib/python3.7/site-packages/sklearn/linear_model/coordinate_descent.py:471: ConvergenceWarning: Objective did not converge. You might want to increase the number of iterations. Duality gap: 0.5575243411481097, tolerance: 0.15532413120931293\n",
      "  tol, rng, random, positive)\n",
      "/opt/anaconda3/lib/python3.7/site-packages/sklearn/linear_model/coordinate_descent.py:471: ConvergenceWarning: Objective did not converge. You might want to increase the number of iterations. Duality gap: 0.7419662114313041, tolerance: 0.15532413120931293\n",
      "  tol, rng, random, positive)\n",
      "/opt/anaconda3/lib/python3.7/site-packages/sklearn/linear_model/coordinate_descent.py:471: ConvergenceWarning: Objective did not converge. You might want to increase the number of iterations. Duality gap: 4.00525287118046, tolerance: 0.15532413120931293\n",
      "  tol, rng, random, positive)\n",
      "/opt/anaconda3/lib/python3.7/site-packages/sklearn/linear_model/coordinate_descent.py:471: ConvergenceWarning: Objective did not converge. You might want to increase the number of iterations. Duality gap: 6.442356363605995, tolerance: 0.15532413120931293\n",
      "  tol, rng, random, positive)\n",
      "/opt/anaconda3/lib/python3.7/site-packages/sklearn/linear_model/coordinate_descent.py:471: ConvergenceWarning: Objective did not converge. You might want to increase the number of iterations. Duality gap: 0.23085975581363982, tolerance: 0.16536705327960158\n",
      "  tol, rng, random, positive)\n",
      "/opt/anaconda3/lib/python3.7/site-packages/sklearn/linear_model/coordinate_descent.py:471: ConvergenceWarning: Objective did not converge. You might want to increase the number of iterations. Duality gap: 3.09389678328796, tolerance: 0.16536705327960158\n",
      "  tol, rng, random, positive)\n",
      "/opt/anaconda3/lib/python3.7/site-packages/sklearn/linear_model/coordinate_descent.py:471: ConvergenceWarning: Objective did not converge. You might want to increase the number of iterations. Duality gap: 4.500945792355651, tolerance: 0.16536705327960158\n",
      "  tol, rng, random, positive)\n",
      "/opt/anaconda3/lib/python3.7/site-packages/sklearn/linear_model/coordinate_descent.py:471: ConvergenceWarning: Objective did not converge. You might want to increase the number of iterations. Duality gap: 1.575107331362915, tolerance: 0.16536705327960158\n",
      "  tol, rng, random, positive)\n",
      "/opt/anaconda3/lib/python3.7/site-packages/sklearn/linear_model/coordinate_descent.py:471: ConvergenceWarning: Objective did not converge. You might want to increase the number of iterations. Duality gap: 4.485425307289006, tolerance: 0.16536705327960158\n",
      "  tol, rng, random, positive)\n",
      "/opt/anaconda3/lib/python3.7/site-packages/sklearn/linear_model/coordinate_descent.py:471: ConvergenceWarning: Objective did not converge. You might want to increase the number of iterations. Duality gap: 10.441603570186544, tolerance: 0.16536705327960158\n",
      "  tol, rng, random, positive)\n",
      "/opt/anaconda3/lib/python3.7/site-packages/sklearn/linear_model/coordinate_descent.py:471: ConvergenceWarning: Objective did not converge. You might want to increase the number of iterations. Duality gap: 10.56048743516044, tolerance: 0.16536705327960158\n",
      "  tol, rng, random, positive)\n",
      "/opt/anaconda3/lib/python3.7/site-packages/sklearn/linear_model/coordinate_descent.py:471: ConvergenceWarning: Objective did not converge. You might want to increase the number of iterations. Duality gap: 0.7021205372460599, tolerance: 0.1688774944009535\n",
      "  tol, rng, random, positive)\n",
      "/opt/anaconda3/lib/python3.7/site-packages/sklearn/linear_model/coordinate_descent.py:471: ConvergenceWarning: Objective did not converge. You might want to increase the number of iterations. Duality gap: 1.6234162221428505, tolerance: 0.1688774944009535\n",
      "  tol, rng, random, positive)\n",
      "/opt/anaconda3/lib/python3.7/site-packages/sklearn/linear_model/coordinate_descent.py:471: ConvergenceWarning: Objective did not converge. You might want to increase the number of iterations. Duality gap: 0.9803471509077326, tolerance: 0.1688774944009535\n",
      "  tol, rng, random, positive)\n",
      "/opt/anaconda3/lib/python3.7/site-packages/sklearn/linear_model/coordinate_descent.py:471: ConvergenceWarning: Objective did not converge. You might want to increase the number of iterations. Duality gap: 3.2929790762798348, tolerance: 0.1688774944009535\n",
      "  tol, rng, random, positive)\n",
      "/opt/anaconda3/lib/python3.7/site-packages/sklearn/linear_model/coordinate_descent.py:471: ConvergenceWarning: Objective did not converge. You might want to increase the number of iterations. Duality gap: 2.6548509132624076, tolerance: 0.1688774944009535\n",
      "  tol, rng, random, positive)\n",
      "/opt/anaconda3/lib/python3.7/site-packages/sklearn/linear_model/coordinate_descent.py:471: ConvergenceWarning: Objective did not converge. You might want to increase the number of iterations. Duality gap: 0.5589171628531631, tolerance: 0.15532413120931293\n",
      "  tol, rng, random, positive)\n",
      "/opt/anaconda3/lib/python3.7/site-packages/sklearn/linear_model/coordinate_descent.py:471: ConvergenceWarning: Objective did not converge. You might want to increase the number of iterations. Duality gap: 0.606654094760188, tolerance: 0.15532413120931293\n",
      "  tol, rng, random, positive)\n",
      "/opt/anaconda3/lib/python3.7/site-packages/sklearn/linear_model/coordinate_descent.py:471: ConvergenceWarning: Objective did not converge. You might want to increase the number of iterations. Duality gap: 2.6973492857333667, tolerance: 0.15532413120931293\n",
      "  tol, rng, random, positive)\n",
      "/opt/anaconda3/lib/python3.7/site-packages/sklearn/linear_model/coordinate_descent.py:471: ConvergenceWarning: Objective did not converge. You might want to increase the number of iterations. Duality gap: 1.413695696682339, tolerance: 0.16536705327960158\n",
      "  tol, rng, random, positive)\n",
      "/opt/anaconda3/lib/python3.7/site-packages/sklearn/linear_model/coordinate_descent.py:471: ConvergenceWarning: Objective did not converge. You might want to increase the number of iterations. Duality gap: 1.839721781659705, tolerance: 0.16536705327960158\n",
      "  tol, rng, random, positive)\n",
      "/opt/anaconda3/lib/python3.7/site-packages/sklearn/linear_model/coordinate_descent.py:471: ConvergenceWarning: Objective did not converge. You might want to increase the number of iterations. Duality gap: 1.0478906601766766, tolerance: 0.16536705327960158\n",
      "  tol, rng, random, positive)\n",
      "/opt/anaconda3/lib/python3.7/site-packages/sklearn/linear_model/coordinate_descent.py:471: ConvergenceWarning: Objective did not converge. You might want to increase the number of iterations. Duality gap: 4.014954471636202, tolerance: 0.16536705327960158\n",
      "  tol, rng, random, positive)\n",
      "/opt/anaconda3/lib/python3.7/site-packages/sklearn/linear_model/coordinate_descent.py:471: ConvergenceWarning: Objective did not converge. You might want to increase the number of iterations. Duality gap: 6.926125332764855, tolerance: 0.16536705327960158\n",
      "  tol, rng, random, positive)\n",
      "/opt/anaconda3/lib/python3.7/site-packages/sklearn/linear_model/coordinate_descent.py:471: ConvergenceWarning: Objective did not converge. You might want to increase the number of iterations. Duality gap: 0.7027546973176868, tolerance: 0.1688774944009535\n",
      "  tol, rng, random, positive)\n",
      "/opt/anaconda3/lib/python3.7/site-packages/sklearn/linear_model/coordinate_descent.py:471: ConvergenceWarning: Objective did not converge. You might want to increase the number of iterations. Duality gap: 0.5960380624761683, tolerance: 0.1688774944009535\n",
      "  tol, rng, random, positive)\n",
      "/opt/anaconda3/lib/python3.7/site-packages/sklearn/linear_model/coordinate_descent.py:471: ConvergenceWarning: Objective did not converge. You might want to increase the number of iterations. Duality gap: 0.8160373946678874, tolerance: 0.1688774944009535\n",
      "  tol, rng, random, positive)\n",
      "/opt/anaconda3/lib/python3.7/site-packages/sklearn/linear_model/coordinate_descent.py:471: ConvergenceWarning: Objective did not converge. You might want to increase the number of iterations. Duality gap: 1.7092759579820722, tolerance: 0.1688774944009535\n",
      "  tol, rng, random, positive)\n",
      "/opt/anaconda3/lib/python3.7/site-packages/sklearn/linear_model/coordinate_descent.py:471: ConvergenceWarning: Objective did not converge. You might want to increase the number of iterations. Duality gap: 0.7490004895294078, tolerance: 0.15532413120931293\n",
      "  tol, rng, random, positive)\n",
      "/opt/anaconda3/lib/python3.7/site-packages/sklearn/linear_model/coordinate_descent.py:471: ConvergenceWarning: Objective did not converge. You might want to increase the number of iterations. Duality gap: 0.6435660376199621, tolerance: 0.15532413120931293\n",
      "  tol, rng, random, positive)\n",
      "/opt/anaconda3/lib/python3.7/site-packages/sklearn/linear_model/coordinate_descent.py:471: ConvergenceWarning: Objective did not converge. You might want to increase the number of iterations. Duality gap: 2.5047733260710174, tolerance: 0.16536705327960158\n",
      "  tol, rng, random, positive)\n",
      "/opt/anaconda3/lib/python3.7/site-packages/sklearn/linear_model/coordinate_descent.py:471: ConvergenceWarning: Objective did not converge. You might want to increase the number of iterations. Duality gap: 1.6191002317661969, tolerance: 0.16536705327960158\n",
      "  tol, rng, random, positive)\n",
      "/opt/anaconda3/lib/python3.7/site-packages/sklearn/linear_model/coordinate_descent.py:471: ConvergenceWarning: Objective did not converge. You might want to increase the number of iterations. Duality gap: 1.362494465192185, tolerance: 0.16536705327960158\n",
      "  tol, rng, random, positive)\n",
      "/opt/anaconda3/lib/python3.7/site-packages/sklearn/linear_model/coordinate_descent.py:471: ConvergenceWarning: Objective did not converge. You might want to increase the number of iterations. Duality gap: 6.78389812228545, tolerance: 0.16536705327960158\n",
      "  tol, rng, random, positive)\n",
      "/opt/anaconda3/lib/python3.7/site-packages/sklearn/linear_model/coordinate_descent.py:471: ConvergenceWarning: Objective did not converge. You might want to increase the number of iterations. Duality gap: 0.40886425299970597, tolerance: 0.1688774944009535\n",
      "  tol, rng, random, positive)\n",
      "/opt/anaconda3/lib/python3.7/site-packages/sklearn/linear_model/coordinate_descent.py:471: ConvergenceWarning: Objective did not converge. You might want to increase the number of iterations. Duality gap: 0.4972275253641101, tolerance: 0.1688774944009535\n",
      "  tol, rng, random, positive)\n",
      "/opt/anaconda3/lib/python3.7/site-packages/sklearn/linear_model/coordinate_descent.py:471: ConvergenceWarning: Objective did not converge. You might want to increase the number of iterations. Duality gap: 1.2531329487007952, tolerance: 0.1688774944009535\n",
      "  tol, rng, random, positive)\n"
     ]
    },
    {
     "name": "stdout",
     "output_type": "stream",
     "text": [
      "{'alphas': array([0.001     , 0.00127427, 0.00162378, 0.00206914, 0.00263665,\n",
      "       0.00335982, 0.00428133, 0.00545559, 0.00695193, 0.00885867,\n",
      "       0.01128838, 0.0143845 , 0.01832981, 0.02335721, 0.02976351,\n",
      "       0.0379269 , 0.0483293 , 0.06158482, 0.078476  , 0.1       ]), 'copy_X': True, 'cv': 'warn', 'eps': 0.001, 'fit_intercept': False, 'l1_ratio': [0.1, 0.25, 0.5, 0.75, 0.9], 'max_iter': 1000, 'n_alphas': 100, 'n_jobs': None, 'normalize': False, 'positive': False, 'precompute': 'auto', 'random_state': None, 'selection': 'cyclic', 'tol': 0.0001, 'verbose': 0}\n",
      "\n",
      "R^2 score for lasso CV model is 0.47326778279402826\n",
      "Mean squared error for lasso CV model is 0.5761107467078016\n",
      "CV model chose alpha: 0.0026366508987303583\n",
      "CV model chose l1 ratio: 0.9\n"
     ]
    }
   ],
   "source": [
    "from sklearn.linear_model import ElasticNetCV\n",
    "e_ratios = [0.1, 0.25, 0.5, 0.75, 0.9]\n",
    "e_alphas = np.logspace(-3, -1, 20)\n",
    "encv = ElasticNetCV(fit_intercept=False, l1_ratio=e_ratios, alphas=e_alphas)\n",
    "encv.fit(X_train, y_train)\n",
    "yencv_pred = encv.predict(X_test)\n",
    "\n",
    "print(encv.get_params())\n",
    "print()\n",
    "print(f'R^2 score for lasso CV model is {encv.score(X_test, y_test)}')\n",
    "print(f'Mean squared error for lasso CV model is {mean_squared_error(y_test, yencv_pred)}')\n",
    "print(f'CV model chose alpha: {encv.alpha_}')\n",
    "print(f'CV model chose l1 ratio: {encv.l1_ratio_}')"
   ]
  },
  {
   "cell_type": "code",
   "execution_count": 47,
   "metadata": {},
   "outputs": [
    {
     "name": "stdout",
     "output_type": "stream",
     "text": [
      "This model kept 104 of 179 features\n",
      "\n",
      "[-5.22740548e-02 -1.23816639e-01  0.00000000e+00 -4.12108851e-02\n",
      " -0.00000000e+00  0.00000000e+00  7.45400873e-02  3.24890234e-01\n",
      " -0.00000000e+00 -5.36616487e-01 -1.32906562e-02  1.29315651e-01\n",
      "  0.00000000e+00  1.00793421e-02  8.22566090e-02  0.00000000e+00\n",
      "  3.24685513e-02 -0.00000000e+00  1.01578858e-01  2.16009469e-02\n",
      " -7.04016068e-02  7.08831646e-02  1.13836984e-02  0.00000000e+00\n",
      "  0.00000000e+00  0.00000000e+00 -5.03398332e-02 -2.38817818e-02\n",
      "  8.16021206e-02  0.00000000e+00 -6.67267135e-02  4.31782875e-02\n",
      "  1.51056985e-01  2.17294983e-02  4.97125065e-03 -0.00000000e+00\n",
      " -0.00000000e+00  3.00901641e-02  0.00000000e+00  0.00000000e+00\n",
      " -6.43522791e-02  6.84523404e-03 -8.21815888e-02 -8.33307166e-02\n",
      "  8.46962353e-02 -0.00000000e+00 -0.00000000e+00 -3.86929300e-02\n",
      " -0.00000000e+00 -1.21668783e-02  0.00000000e+00  2.43452878e-02\n",
      " -0.00000000e+00 -1.57323492e-02  6.18887867e-02 -0.00000000e+00\n",
      "  0.00000000e+00  0.00000000e+00 -5.89104648e-02 -3.87090276e-02\n",
      "  0.00000000e+00 -1.10138715e-01  0.00000000e+00  0.00000000e+00\n",
      "  0.00000000e+00  0.00000000e+00 -2.60576336e-02 -5.39207881e-02\n",
      " -2.75169978e-02  9.00306892e-02  1.82156307e-01 -2.68482794e-02\n",
      " -0.00000000e+00 -3.85269009e-02 -0.00000000e+00 -4.11742260e-01\n",
      "  0.00000000e+00 -0.00000000e+00  9.14734826e-02 -8.42368399e-04\n",
      "  0.00000000e+00  5.26607618e-02 -1.56159958e-01  0.00000000e+00\n",
      "  9.19400054e-02  2.47009831e-02 -1.01193717e-01  5.52338882e-02\n",
      "  0.00000000e+00 -2.04701508e-02 -0.00000000e+00 -1.36943538e-01\n",
      " -1.82804340e-01 -0.00000000e+00  4.92451683e-02 -5.13035452e-03\n",
      " -0.00000000e+00 -1.08208135e-02 -1.03160686e-01 -2.25976707e-02\n",
      " -2.06509161e-02  3.91669565e-02  0.00000000e+00  5.39525390e-02\n",
      "  0.00000000e+00 -6.94067890e-03  0.00000000e+00  6.46228034e-02\n",
      " -0.00000000e+00 -0.00000000e+00  4.39310919e-01  5.64700664e-02\n",
      "  1.68063925e-01  0.00000000e+00 -4.01029898e-02 -0.00000000e+00\n",
      " -0.00000000e+00  0.00000000e+00 -8.68221556e-02 -0.00000000e+00\n",
      "  0.00000000e+00  8.60416710e-03  7.33276385e-02 -2.23696173e-02\n",
      " -7.60111703e-02 -2.40603924e-04  0.00000000e+00  0.00000000e+00\n",
      " -0.00000000e+00 -0.00000000e+00  1.31249037e-01 -0.00000000e+00\n",
      "  0.00000000e+00 -0.00000000e+00  0.00000000e+00 -0.00000000e+00\n",
      "  0.00000000e+00  0.00000000e+00  0.00000000e+00  0.00000000e+00\n",
      " -0.00000000e+00 -6.12167187e-04  0.00000000e+00  1.21557304e-01\n",
      " -0.00000000e+00  0.00000000e+00  1.62226486e-01  3.58943199e-02\n",
      " -8.82150414e-02 -7.28875451e-04 -2.38131701e-01  0.00000000e+00\n",
      "  8.66385681e-02  1.37281150e-01  0.00000000e+00 -3.40060850e-02\n",
      "  7.82297710e-02 -2.32594697e-02 -1.60165132e-02  1.75097477e-01\n",
      "  1.77405748e-01  0.00000000e+00 -0.00000000e+00  7.81991570e-02\n",
      " -1.12526973e-03  0.00000000e+00  0.00000000e+00  5.98648266e-02\n",
      " -2.35981797e-02 -0.00000000e+00  5.04476479e-02 -1.47180668e-01\n",
      "  2.81863702e-02 -1.45899377e-01  3.11972864e-02 -0.00000000e+00\n",
      "  0.00000000e+00  1.29721436e-02 -4.45384304e-02]\n"
     ]
    }
   ],
   "source": [
    "## MODEL COEFFICIENTS\n",
    "print(f'This model kept {sum(encv.coef_ != 0)} of {X_train.shape[1]} features')\n",
    "print()\n",
    "print(encv.coef_)"
   ]
  },
  {
   "cell_type": "code",
   "execution_count": 48,
   "metadata": {},
   "outputs": [],
   "source": [
    "##Plotting Elastic Net"
   ]
  },
  {
   "cell_type": "code",
   "execution_count": 49,
   "metadata": {},
   "outputs": [
    {
     "name": "stderr",
     "output_type": "stream",
     "text": [
      "/opt/anaconda3/lib/python3.7/site-packages/sklearn/linear_model/coordinate_descent.py:475: ConvergenceWarning: Objective did not converge. You might want to increase the number of iterations. Duality gap: 352.6321086780413, tolerance: 0.24477487393674652\n",
      "  positive)\n",
      "/opt/anaconda3/lib/python3.7/site-packages/sklearn/linear_model/coordinate_descent.py:475: ConvergenceWarning: Objective did not converge. You might want to increase the number of iterations. Duality gap: 276.4276968690996, tolerance: 0.24477487393674652\n",
      "  positive)\n",
      "/opt/anaconda3/lib/python3.7/site-packages/sklearn/linear_model/coordinate_descent.py:475: ConvergenceWarning: Objective did not converge. You might want to increase the number of iterations. Duality gap: 175.0511082019798, tolerance: 0.24477487393674652\n",
      "  positive)\n",
      "/opt/anaconda3/lib/python3.7/site-packages/sklearn/linear_model/coordinate_descent.py:475: ConvergenceWarning: Objective did not converge. You might want to increase the number of iterations. Duality gap: 137.43046616547178, tolerance: 0.24477487393674652\n",
      "  positive)\n",
      "/opt/anaconda3/lib/python3.7/site-packages/sklearn/linear_model/coordinate_descent.py:475: ConvergenceWarning: Objective did not converge. You might want to increase the number of iterations. Duality gap: 132.34177774625368, tolerance: 0.24477487393674652\n",
      "  positive)\n",
      "/opt/anaconda3/lib/python3.7/site-packages/sklearn/linear_model/coordinate_descent.py:475: ConvergenceWarning: Objective did not converge. You might want to increase the number of iterations. Duality gap: 131.37012948710787, tolerance: 0.24477487393674652\n",
      "  positive)\n",
      "/opt/anaconda3/lib/python3.7/site-packages/sklearn/linear_model/coordinate_descent.py:475: ConvergenceWarning: Objective did not converge. You might want to increase the number of iterations. Duality gap: 53.51821890958661, tolerance: 0.24477487393674652\n",
      "  positive)\n",
      "/opt/anaconda3/lib/python3.7/site-packages/sklearn/linear_model/coordinate_descent.py:475: ConvergenceWarning: Objective did not converge. You might want to increase the number of iterations. Duality gap: 39.61233069970433, tolerance: 0.24477487393674652\n",
      "  positive)\n",
      "/opt/anaconda3/lib/python3.7/site-packages/sklearn/linear_model/coordinate_descent.py:475: ConvergenceWarning: Objective did not converge. You might want to increase the number of iterations. Duality gap: 17.352329742928532, tolerance: 0.24477487393674652\n",
      "  positive)\n",
      "/opt/anaconda3/lib/python3.7/site-packages/sklearn/linear_model/coordinate_descent.py:475: ConvergenceWarning: Objective did not converge. You might want to increase the number of iterations. Duality gap: 11.707845197727693, tolerance: 0.24477487393674652\n",
      "  positive)\n",
      "/opt/anaconda3/lib/python3.7/site-packages/sklearn/linear_model/coordinate_descent.py:475: ConvergenceWarning: Objective did not converge. You might want to increase the number of iterations. Duality gap: 2.8937912468209106, tolerance: 0.24477487393674652\n",
      "  positive)\n",
      "/opt/anaconda3/lib/python3.7/site-packages/sklearn/linear_model/coordinate_descent.py:475: ConvergenceWarning: Objective did not converge. You might want to increase the number of iterations. Duality gap: 1.3951979699590993, tolerance: 0.24477487393674652\n",
      "  positive)\n",
      "/opt/anaconda3/lib/python3.7/site-packages/sklearn/linear_model/coordinate_descent.py:475: ConvergenceWarning: Objective did not converge. You might want to increase the number of iterations. Duality gap: 0.8624774355491809, tolerance: 0.24477487393674652\n",
      "  positive)\n",
      "/opt/anaconda3/lib/python3.7/site-packages/sklearn/linear_model/coordinate_descent.py:475: ConvergenceWarning: Objective did not converge. You might want to increase the number of iterations. Duality gap: 124.78292265837536, tolerance: 0.24477487393674652\n",
      "  positive)\n",
      "/opt/anaconda3/lib/python3.7/site-packages/sklearn/linear_model/coordinate_descent.py:475: ConvergenceWarning: Objective did not converge. You might want to increase the number of iterations. Duality gap: 80.08542713876989, tolerance: 0.24477487393674652\n",
      "  positive)\n",
      "/opt/anaconda3/lib/python3.7/site-packages/sklearn/linear_model/coordinate_descent.py:475: ConvergenceWarning: Objective did not converge. You might want to increase the number of iterations. Duality gap: 66.15670058367175, tolerance: 0.24477487393674652\n",
      "  positive)\n",
      "/opt/anaconda3/lib/python3.7/site-packages/sklearn/linear_model/coordinate_descent.py:475: ConvergenceWarning: Objective did not converge. You might want to increase the number of iterations. Duality gap: 39.537729778104676, tolerance: 0.24477487393674652\n",
      "  positive)\n",
      "/opt/anaconda3/lib/python3.7/site-packages/sklearn/linear_model/coordinate_descent.py:475: ConvergenceWarning: Objective did not converge. You might want to increase the number of iterations. Duality gap: 36.80242517535578, tolerance: 0.24477487393674652\n",
      "  positive)\n",
      "/opt/anaconda3/lib/python3.7/site-packages/sklearn/linear_model/coordinate_descent.py:475: ConvergenceWarning: Objective did not converge. You might want to increase the number of iterations. Duality gap: 8.360499733914594, tolerance: 0.24477487393674652\n",
      "  positive)\n",
      "/opt/anaconda3/lib/python3.7/site-packages/sklearn/linear_model/coordinate_descent.py:475: ConvergenceWarning: Objective did not converge. You might want to increase the number of iterations. Duality gap: 1.3905803905277025, tolerance: 0.24477487393674652\n",
      "  positive)\n",
      "/opt/anaconda3/lib/python3.7/site-packages/sklearn/linear_model/coordinate_descent.py:475: ConvergenceWarning: Objective did not converge. You might want to increase the number of iterations. Duality gap: 0.9492558907086277, tolerance: 0.24477487393674652\n",
      "  positive)\n",
      "/opt/anaconda3/lib/python3.7/site-packages/sklearn/linear_model/coordinate_descent.py:475: ConvergenceWarning: Objective did not converge. You might want to increase the number of iterations. Duality gap: 0.31529129212594853, tolerance: 0.24477487393674652\n",
      "  positive)\n",
      "/opt/anaconda3/lib/python3.7/site-packages/sklearn/linear_model/coordinate_descent.py:475: ConvergenceWarning: Objective did not converge. You might want to increase the number of iterations. Duality gap: 41.629399849111905, tolerance: 0.24477487393674652\n",
      "  positive)\n",
      "/opt/anaconda3/lib/python3.7/site-packages/sklearn/linear_model/coordinate_descent.py:475: ConvergenceWarning: Objective did not converge. You might want to increase the number of iterations. Duality gap: 23.197817086001237, tolerance: 0.24477487393674652\n",
      "  positive)\n",
      "/opt/anaconda3/lib/python3.7/site-packages/sklearn/linear_model/coordinate_descent.py:475: ConvergenceWarning: Objective did not converge. You might want to increase the number of iterations. Duality gap: 7.8154462676250205, tolerance: 0.24477487393674652\n",
      "  positive)\n",
      "/opt/anaconda3/lib/python3.7/site-packages/sklearn/linear_model/coordinate_descent.py:475: ConvergenceWarning: Objective did not converge. You might want to increase the number of iterations. Duality gap: 3.528216100943837, tolerance: 0.24477487393674652\n",
      "  positive)\n",
      "/opt/anaconda3/lib/python3.7/site-packages/sklearn/linear_model/coordinate_descent.py:475: ConvergenceWarning: Objective did not converge. You might want to increase the number of iterations. Duality gap: 0.39182334530391927, tolerance: 0.24477487393674652\n",
      "  positive)\n",
      "/opt/anaconda3/lib/python3.7/site-packages/sklearn/linear_model/coordinate_descent.py:475: ConvergenceWarning: Objective did not converge. You might want to increase the number of iterations. Duality gap: 26.306170350392904, tolerance: 0.24477487393674652\n",
      "  positive)\n",
      "/opt/anaconda3/lib/python3.7/site-packages/sklearn/linear_model/coordinate_descent.py:475: ConvergenceWarning: Objective did not converge. You might want to increase the number of iterations. Duality gap: 2.9274352191494017, tolerance: 0.24477487393674652\n",
      "  positive)\n",
      "/opt/anaconda3/lib/python3.7/site-packages/sklearn/linear_model/coordinate_descent.py:475: ConvergenceWarning: Objective did not converge. You might want to increase the number of iterations. Duality gap: 0.7228850327414875, tolerance: 0.24477487393674652\n",
      "  positive)\n",
      "/opt/anaconda3/lib/python3.7/site-packages/sklearn/linear_model/coordinate_descent.py:475: ConvergenceWarning: Objective did not converge. You might want to increase the number of iterations. Duality gap: 0.3160241726379809, tolerance: 0.24477487393674652\n",
      "  positive)\n",
      "/opt/anaconda3/lib/python3.7/site-packages/sklearn/linear_model/coordinate_descent.py:475: ConvergenceWarning: Objective did not converge. You might want to increase the number of iterations. Duality gap: 3.201329633678597, tolerance: 0.24477487393674652\n",
      "  positive)\n",
      "/opt/anaconda3/lib/python3.7/site-packages/sklearn/linear_model/coordinate_descent.py:475: ConvergenceWarning: Objective did not converge. You might want to increase the number of iterations. Duality gap: 3.3630245952238056, tolerance: 0.24477487393674652\n",
      "  positive)\n",
      "/opt/anaconda3/lib/python3.7/site-packages/sklearn/linear_model/coordinate_descent.py:475: ConvergenceWarning: Objective did not converge. You might want to increase the number of iterations. Duality gap: 0.2823868128571121, tolerance: 0.24477487393674652\n",
      "  positive)\n",
      "/opt/anaconda3/lib/python3.7/site-packages/sklearn/linear_model/coordinate_descent.py:1100: DataConversionWarning: A column-vector y was passed when a 1d array was expected. Please change the shape of y to (n_samples, ), for example using ravel().\n",
      "  y = column_or_1d(y, warn=True)\n",
      "/opt/anaconda3/lib/python3.7/site-packages/sklearn/model_selection/_split.py:1978: FutureWarning: The default value of cv will change from 3 to 5 in version 0.22. Specify it explicitly to silence this warning.\n",
      "  warnings.warn(CV_WARNING, FutureWarning)\n",
      "/opt/anaconda3/lib/python3.7/site-packages/sklearn/linear_model/coordinate_descent.py:471: ConvergenceWarning: Objective did not converge. You might want to increase the number of iterations. Duality gap: 0.2544194220513418, tolerance: 0.15530663498909103\n",
      "  tol, rng, random, positive)\n",
      "/opt/anaconda3/lib/python3.7/site-packages/sklearn/linear_model/coordinate_descent.py:471: ConvergenceWarning: Objective did not converge. You might want to increase the number of iterations. Duality gap: 0.2789750606785901, tolerance: 0.15530663498909103\n",
      "  tol, rng, random, positive)\n",
      "/opt/anaconda3/lib/python3.7/site-packages/sklearn/linear_model/coordinate_descent.py:471: ConvergenceWarning: Objective did not converge. You might want to increase the number of iterations. Duality gap: 1.4973485719680184, tolerance: 0.15530663498909103\n",
      "  tol, rng, random, positive)\n",
      "/opt/anaconda3/lib/python3.7/site-packages/sklearn/linear_model/coordinate_descent.py:471: ConvergenceWarning: Objective did not converge. You might want to increase the number of iterations. Duality gap: 0.3995046224373482, tolerance: 0.15530663498909103\n",
      "  tol, rng, random, positive)\n",
      "/opt/anaconda3/lib/python3.7/site-packages/sklearn/linear_model/coordinate_descent.py:471: ConvergenceWarning: Objective did not converge. You might want to increase the number of iterations. Duality gap: 1.7372375092932089, tolerance: 0.15530663498909103\n",
      "  tol, rng, random, positive)\n",
      "/opt/anaconda3/lib/python3.7/site-packages/sklearn/linear_model/coordinate_descent.py:471: ConvergenceWarning: Objective did not converge. You might want to increase the number of iterations. Duality gap: 3.0749865131300567, tolerance: 0.15530663498909103\n",
      "  tol, rng, random, positive)\n",
      "/opt/anaconda3/lib/python3.7/site-packages/sklearn/linear_model/coordinate_descent.py:471: ConvergenceWarning: Objective did not converge. You might want to increase the number of iterations. Duality gap: 3.0005613604220116, tolerance: 0.15530663498909103\n",
      "  tol, rng, random, positive)\n",
      "/opt/anaconda3/lib/python3.7/site-packages/sklearn/linear_model/coordinate_descent.py:471: ConvergenceWarning: Objective did not converge. You might want to increase the number of iterations. Duality gap: 7.453134046783816, tolerance: 0.15530663498909103\n",
      "  tol, rng, random, positive)\n",
      "/opt/anaconda3/lib/python3.7/site-packages/sklearn/linear_model/coordinate_descent.py:471: ConvergenceWarning: Objective did not converge. You might want to increase the number of iterations. Duality gap: 13.535048609152568, tolerance: 0.15530663498909103\n",
      "  tol, rng, random, positive)\n",
      "/opt/anaconda3/lib/python3.7/site-packages/sklearn/linear_model/coordinate_descent.py:471: ConvergenceWarning: Objective did not converge. You might want to increase the number of iterations. Duality gap: 28.140847042587097, tolerance: 0.15530663498909103\n",
      "  tol, rng, random, positive)\n",
      "/opt/anaconda3/lib/python3.7/site-packages/sklearn/linear_model/coordinate_descent.py:471: ConvergenceWarning: Objective did not converge. You might want to increase the number of iterations. Duality gap: 59.72640965209058, tolerance: 0.15530663498909103\n",
      "  tol, rng, random, positive)\n",
      "/opt/anaconda3/lib/python3.7/site-packages/sklearn/linear_model/coordinate_descent.py:471: ConvergenceWarning: Objective did not converge. You might want to increase the number of iterations. Duality gap: 98.16232157457199, tolerance: 0.15530663498909103\n",
      "  tol, rng, random, positive)\n",
      "/opt/anaconda3/lib/python3.7/site-packages/sklearn/linear_model/coordinate_descent.py:471: ConvergenceWarning: Objective did not converge. You might want to increase the number of iterations. Duality gap: 0.35884591811816335, tolerance: 0.1653662035121701\n",
      "  tol, rng, random, positive)\n",
      "/opt/anaconda3/lib/python3.7/site-packages/sklearn/linear_model/coordinate_descent.py:471: ConvergenceWarning: Objective did not converge. You might want to increase the number of iterations. Duality gap: 1.4108743921772202, tolerance: 0.1653662035121701\n",
      "  tol, rng, random, positive)\n",
      "/opt/anaconda3/lib/python3.7/site-packages/sklearn/linear_model/coordinate_descent.py:471: ConvergenceWarning: Objective did not converge. You might want to increase the number of iterations. Duality gap: 1.6094613201591983, tolerance: 0.1653662035121701\n",
      "  tol, rng, random, positive)\n",
      "/opt/anaconda3/lib/python3.7/site-packages/sklearn/linear_model/coordinate_descent.py:471: ConvergenceWarning: Objective did not converge. You might want to increase the number of iterations. Duality gap: 2.4317272442488047, tolerance: 0.1653662035121701\n",
      "  tol, rng, random, positive)\n",
      "/opt/anaconda3/lib/python3.7/site-packages/sklearn/linear_model/coordinate_descent.py:471: ConvergenceWarning: Objective did not converge. You might want to increase the number of iterations. Duality gap: 6.13487454778749, tolerance: 0.1653662035121701\n",
      "  tol, rng, random, positive)\n",
      "/opt/anaconda3/lib/python3.7/site-packages/sklearn/linear_model/coordinate_descent.py:471: ConvergenceWarning: Objective did not converge. You might want to increase the number of iterations. Duality gap: 4.375280916831343, tolerance: 0.1653662035121701\n",
      "  tol, rng, random, positive)\n",
      "/opt/anaconda3/lib/python3.7/site-packages/sklearn/linear_model/coordinate_descent.py:471: ConvergenceWarning: Objective did not converge. You might want to increase the number of iterations. Duality gap: 7.118517622541617, tolerance: 0.1653662035121701\n",
      "  tol, rng, random, positive)\n",
      "/opt/anaconda3/lib/python3.7/site-packages/sklearn/linear_model/coordinate_descent.py:471: ConvergenceWarning: Objective did not converge. You might want to increase the number of iterations. Duality gap: 18.620070617156784, tolerance: 0.1653662035121701\n",
      "  tol, rng, random, positive)\n",
      "/opt/anaconda3/lib/python3.7/site-packages/sklearn/linear_model/coordinate_descent.py:471: ConvergenceWarning: Objective did not converge. You might want to increase the number of iterations. Duality gap: 25.608192836346916, tolerance: 0.1653662035121701\n",
      "  tol, rng, random, positive)\n",
      "/opt/anaconda3/lib/python3.7/site-packages/sklearn/linear_model/coordinate_descent.py:471: ConvergenceWarning: Objective did not converge. You might want to increase the number of iterations. Duality gap: 38.67926333669419, tolerance: 0.1653662035121701\n",
      "  tol, rng, random, positive)\n",
      "/opt/anaconda3/lib/python3.7/site-packages/sklearn/linear_model/coordinate_descent.py:471: ConvergenceWarning: Objective did not converge. You might want to increase the number of iterations. Duality gap: 60.963054069393706, tolerance: 0.1653662035121701\n",
      "  tol, rng, random, positive)\n",
      "/opt/anaconda3/lib/python3.7/site-packages/sklearn/linear_model/coordinate_descent.py:471: ConvergenceWarning: Objective did not converge. You might want to increase the number of iterations. Duality gap: 91.34047754100004, tolerance: 0.1653662035121701\n",
      "  tol, rng, random, positive)\n",
      "/opt/anaconda3/lib/python3.7/site-packages/sklearn/linear_model/coordinate_descent.py:471: ConvergenceWarning: Objective did not converge. You might want to increase the number of iterations. Duality gap: 117.39473217847109, tolerance: 0.1653662035121701\n",
      "  tol, rng, random, positive)\n",
      "/opt/anaconda3/lib/python3.7/site-packages/sklearn/linear_model/coordinate_descent.py:471: ConvergenceWarning: Objective did not converge. You might want to increase the number of iterations. Duality gap: 0.53029440205421, tolerance: 0.16887158238450253\n",
      "  tol, rng, random, positive)\n",
      "/opt/anaconda3/lib/python3.7/site-packages/sklearn/linear_model/coordinate_descent.py:471: ConvergenceWarning: Objective did not converge. You might want to increase the number of iterations. Duality gap: 0.887744493989203, tolerance: 0.16887158238450253\n",
      "  tol, rng, random, positive)\n",
      "/opt/anaconda3/lib/python3.7/site-packages/sklearn/linear_model/coordinate_descent.py:471: ConvergenceWarning: Objective did not converge. You might want to increase the number of iterations. Duality gap: 1.2737459555849, tolerance: 0.16887158238450253\n",
      "  tol, rng, random, positive)\n",
      "/opt/anaconda3/lib/python3.7/site-packages/sklearn/linear_model/coordinate_descent.py:471: ConvergenceWarning: Objective did not converge. You might want to increase the number of iterations. Duality gap: 7.529239268713695, tolerance: 0.16887158238450253\n",
      "  tol, rng, random, positive)\n",
      "/opt/anaconda3/lib/python3.7/site-packages/sklearn/linear_model/coordinate_descent.py:471: ConvergenceWarning: Objective did not converge. You might want to increase the number of iterations. Duality gap: 5.608589020351474, tolerance: 0.16887158238450253\n",
      "  tol, rng, random, positive)\n",
      "/opt/anaconda3/lib/python3.7/site-packages/sklearn/linear_model/coordinate_descent.py:471: ConvergenceWarning: Objective did not converge. You might want to increase the number of iterations. Duality gap: 4.707420755053704, tolerance: 0.16887158238450253\n",
      "  tol, rng, random, positive)\n",
      "/opt/anaconda3/lib/python3.7/site-packages/sklearn/linear_model/coordinate_descent.py:471: ConvergenceWarning: Objective did not converge. You might want to increase the number of iterations. Duality gap: 9.213236282296066, tolerance: 0.16887158238450253\n",
      "  tol, rng, random, positive)\n",
      "/opt/anaconda3/lib/python3.7/site-packages/sklearn/linear_model/coordinate_descent.py:471: ConvergenceWarning: Objective did not converge. You might want to increase the number of iterations. Duality gap: 7.851449033826725, tolerance: 0.16887158238450253\n",
      "  tol, rng, random, positive)\n",
      "/opt/anaconda3/lib/python3.7/site-packages/sklearn/linear_model/coordinate_descent.py:471: ConvergenceWarning: Objective did not converge. You might want to increase the number of iterations. Duality gap: 8.479513172870384, tolerance: 0.16887158238450253\n",
      "  tol, rng, random, positive)\n",
      "/opt/anaconda3/lib/python3.7/site-packages/sklearn/linear_model/coordinate_descent.py:471: ConvergenceWarning: Objective did not converge. You might want to increase the number of iterations. Duality gap: 17.042274457889107, tolerance: 0.16887158238450253\n",
      "  tol, rng, random, positive)\n",
      "/opt/anaconda3/lib/python3.7/site-packages/sklearn/linear_model/coordinate_descent.py:471: ConvergenceWarning: Objective did not converge. You might want to increase the number of iterations. Duality gap: 37.616087999255456, tolerance: 0.16887158238450253\n",
      "  tol, rng, random, positive)\n",
      "/opt/anaconda3/lib/python3.7/site-packages/sklearn/linear_model/coordinate_descent.py:471: ConvergenceWarning: Objective did not converge. You might want to increase the number of iterations. Duality gap: 47.941686613579066, tolerance: 0.16887158238450253\n",
      "  tol, rng, random, positive)\n",
      "/opt/anaconda3/lib/python3.7/site-packages/sklearn/linear_model/coordinate_descent.py:471: ConvergenceWarning: Objective did not converge. You might want to increase the number of iterations. Duality gap: 0.5235439305055252, tolerance: 0.15530663498909103\n",
      "  tol, rng, random, positive)\n",
      "/opt/anaconda3/lib/python3.7/site-packages/sklearn/linear_model/coordinate_descent.py:471: ConvergenceWarning: Objective did not converge. You might want to increase the number of iterations. Duality gap: 0.6046256495242233, tolerance: 0.15530663498909103\n",
      "  tol, rng, random, positive)\n",
      "/opt/anaconda3/lib/python3.7/site-packages/sklearn/linear_model/coordinate_descent.py:471: ConvergenceWarning: Objective did not converge. You might want to increase the number of iterations. Duality gap: 1.430344373563912, tolerance: 0.15530663498909103\n",
      "  tol, rng, random, positive)\n",
      "/opt/anaconda3/lib/python3.7/site-packages/sklearn/linear_model/coordinate_descent.py:471: ConvergenceWarning: Objective did not converge. You might want to increase the number of iterations. Duality gap: 1.2423090445971638, tolerance: 0.15530663498909103\n",
      "  tol, rng, random, positive)\n",
      "/opt/anaconda3/lib/python3.7/site-packages/sklearn/linear_model/coordinate_descent.py:471: ConvergenceWarning: Objective did not converge. You might want to increase the number of iterations. Duality gap: 4.11488292691331, tolerance: 0.15530663498909103\n",
      "  tol, rng, random, positive)\n",
      "/opt/anaconda3/lib/python3.7/site-packages/sklearn/linear_model/coordinate_descent.py:471: ConvergenceWarning: Objective did not converge. You might want to increase the number of iterations. Duality gap: 14.018603600373012, tolerance: 0.15530663498909103\n",
      "  tol, rng, random, positive)\n",
      "/opt/anaconda3/lib/python3.7/site-packages/sklearn/linear_model/coordinate_descent.py:471: ConvergenceWarning: Objective did not converge. You might want to increase the number of iterations. Duality gap: 41.17215521038162, tolerance: 0.15530663498909103\n",
      "  tol, rng, random, positive)\n",
      "/opt/anaconda3/lib/python3.7/site-packages/sklearn/linear_model/coordinate_descent.py:471: ConvergenceWarning: Objective did not converge. You might want to increase the number of iterations. Duality gap: 1.216254133680195, tolerance: 0.1653662035121701\n",
      "  tol, rng, random, positive)\n",
      "/opt/anaconda3/lib/python3.7/site-packages/sklearn/linear_model/coordinate_descent.py:471: ConvergenceWarning: Objective did not converge. You might want to increase the number of iterations. Duality gap: 3.132060827042551, tolerance: 0.1653662035121701\n",
      "  tol, rng, random, positive)\n",
      "/opt/anaconda3/lib/python3.7/site-packages/sklearn/linear_model/coordinate_descent.py:471: ConvergenceWarning: Objective did not converge. You might want to increase the number of iterations. Duality gap: 3.159757762426466, tolerance: 0.1653662035121701\n",
      "  tol, rng, random, positive)\n",
      "/opt/anaconda3/lib/python3.7/site-packages/sklearn/linear_model/coordinate_descent.py:471: ConvergenceWarning: Objective did not converge. You might want to increase the number of iterations. Duality gap: 4.336930964934709, tolerance: 0.1653662035121701\n",
      "  tol, rng, random, positive)\n",
      "/opt/anaconda3/lib/python3.7/site-packages/sklearn/linear_model/coordinate_descent.py:471: ConvergenceWarning: Objective did not converge. You might want to increase the number of iterations. Duality gap: 9.981385335572554, tolerance: 0.1653662035121701\n",
      "  tol, rng, random, positive)\n",
      "/opt/anaconda3/lib/python3.7/site-packages/sklearn/linear_model/coordinate_descent.py:471: ConvergenceWarning: Objective did not converge. You might want to increase the number of iterations. Duality gap: 6.43083353419172, tolerance: 0.1653662035121701\n",
      "  tol, rng, random, positive)\n",
      "/opt/anaconda3/lib/python3.7/site-packages/sklearn/linear_model/coordinate_descent.py:471: ConvergenceWarning: Objective did not converge. You might want to increase the number of iterations. Duality gap: 10.784353612659515, tolerance: 0.1653662035121701\n",
      "  tol, rng, random, positive)\n",
      "/opt/anaconda3/lib/python3.7/site-packages/sklearn/linear_model/coordinate_descent.py:471: ConvergenceWarning: Objective did not converge. You might want to increase the number of iterations. Duality gap: 16.716581643862924, tolerance: 0.1653662035121701\n",
      "  tol, rng, random, positive)\n",
      "/opt/anaconda3/lib/python3.7/site-packages/sklearn/linear_model/coordinate_descent.py:471: ConvergenceWarning: Objective did not converge. You might want to increase the number of iterations. Duality gap: 27.843554332597705, tolerance: 0.1653662035121701\n",
      "  tol, rng, random, positive)\n",
      "/opt/anaconda3/lib/python3.7/site-packages/sklearn/linear_model/coordinate_descent.py:471: ConvergenceWarning: Objective did not converge. You might want to increase the number of iterations. Duality gap: 0.330242139668826, tolerance: 0.16887158238450253\n",
      "  tol, rng, random, positive)\n",
      "/opt/anaconda3/lib/python3.7/site-packages/sklearn/linear_model/coordinate_descent.py:471: ConvergenceWarning: Objective did not converge. You might want to increase the number of iterations. Duality gap: 2.7768133844853082, tolerance: 0.16887158238450253\n",
      "  tol, rng, random, positive)\n",
      "/opt/anaconda3/lib/python3.7/site-packages/sklearn/linear_model/coordinate_descent.py:471: ConvergenceWarning: Objective did not converge. You might want to increase the number of iterations. Duality gap: 1.812811916839678, tolerance: 0.16887158238450253\n",
      "  tol, rng, random, positive)\n",
      "/opt/anaconda3/lib/python3.7/site-packages/sklearn/linear_model/coordinate_descent.py:471: ConvergenceWarning: Objective did not converge. You might want to increase the number of iterations. Duality gap: 1.9456930028753732, tolerance: 0.16887158238450253\n",
      "  tol, rng, random, positive)\n",
      "/opt/anaconda3/lib/python3.7/site-packages/sklearn/linear_model/coordinate_descent.py:471: ConvergenceWarning: Objective did not converge. You might want to increase the number of iterations. Duality gap: 1.8348485406322652, tolerance: 0.16887158238450253\n",
      "  tol, rng, random, positive)\n",
      "/opt/anaconda3/lib/python3.7/site-packages/sklearn/linear_model/coordinate_descent.py:471: ConvergenceWarning: Objective did not converge. You might want to increase the number of iterations. Duality gap: 2.052365689942235, tolerance: 0.16887158238450253\n",
      "  tol, rng, random, positive)\n",
      "/opt/anaconda3/lib/python3.7/site-packages/sklearn/linear_model/coordinate_descent.py:471: ConvergenceWarning: Objective did not converge. You might want to increase the number of iterations. Duality gap: 4.009108532688629, tolerance: 0.16887158238450253\n",
      "  tol, rng, random, positive)\n",
      "/opt/anaconda3/lib/python3.7/site-packages/sklearn/linear_model/coordinate_descent.py:471: ConvergenceWarning: Objective did not converge. You might want to increase the number of iterations. Duality gap: 7.494633498864459, tolerance: 0.16887158238450253\n",
      "  tol, rng, random, positive)\n",
      "/opt/anaconda3/lib/python3.7/site-packages/sklearn/linear_model/coordinate_descent.py:471: ConvergenceWarning: Objective did not converge. You might want to increase the number of iterations. Duality gap: 0.18587122522353638, tolerance: 0.15530663498909103\n",
      "  tol, rng, random, positive)\n",
      "/opt/anaconda3/lib/python3.7/site-packages/sklearn/linear_model/coordinate_descent.py:471: ConvergenceWarning: Objective did not converge. You might want to increase the number of iterations. Duality gap: 0.5894564102793538, tolerance: 0.15530663498909103\n",
      "  tol, rng, random, positive)\n",
      "/opt/anaconda3/lib/python3.7/site-packages/sklearn/linear_model/coordinate_descent.py:471: ConvergenceWarning: Objective did not converge. You might want to increase the number of iterations. Duality gap: 0.7385687803081282, tolerance: 0.15530663498909103\n",
      "  tol, rng, random, positive)\n",
      "/opt/anaconda3/lib/python3.7/site-packages/sklearn/linear_model/coordinate_descent.py:471: ConvergenceWarning: Objective did not converge. You might want to increase the number of iterations. Duality gap: 3.9614010256711936, tolerance: 0.15530663498909103\n",
      "  tol, rng, random, positive)\n",
      "/opt/anaconda3/lib/python3.7/site-packages/sklearn/linear_model/coordinate_descent.py:471: ConvergenceWarning: Objective did not converge. You might want to increase the number of iterations. Duality gap: 7.349624623702425, tolerance: 0.15530663498909103\n",
      "  tol, rng, random, positive)\n",
      "/opt/anaconda3/lib/python3.7/site-packages/sklearn/linear_model/coordinate_descent.py:471: ConvergenceWarning: Objective did not converge. You might want to increase the number of iterations. Duality gap: 0.22350825573812472, tolerance: 0.1653662035121701\n",
      "  tol, rng, random, positive)\n",
      "/opt/anaconda3/lib/python3.7/site-packages/sklearn/linear_model/coordinate_descent.py:471: ConvergenceWarning: Objective did not converge. You might want to increase the number of iterations. Duality gap: 2.982092442736757, tolerance: 0.1653662035121701\n",
      "  tol, rng, random, positive)\n",
      "/opt/anaconda3/lib/python3.7/site-packages/sklearn/linear_model/coordinate_descent.py:471: ConvergenceWarning: Objective did not converge. You might want to increase the number of iterations. Duality gap: 4.356653353233696, tolerance: 0.1653662035121701\n",
      "  tol, rng, random, positive)\n",
      "/opt/anaconda3/lib/python3.7/site-packages/sklearn/linear_model/coordinate_descent.py:471: ConvergenceWarning: Objective did not converge. You might want to increase the number of iterations. Duality gap: 1.6517813749262586, tolerance: 0.1653662035121701\n",
      "  tol, rng, random, positive)\n",
      "/opt/anaconda3/lib/python3.7/site-packages/sklearn/linear_model/coordinate_descent.py:471: ConvergenceWarning: Objective did not converge. You might want to increase the number of iterations. Duality gap: 4.21421823148637, tolerance: 0.1653662035121701\n",
      "  tol, rng, random, positive)\n",
      "/opt/anaconda3/lib/python3.7/site-packages/sklearn/linear_model/coordinate_descent.py:471: ConvergenceWarning: Objective did not converge. You might want to increase the number of iterations. Duality gap: 9.750568124232018, tolerance: 0.1653662035121701\n",
      "  tol, rng, random, positive)\n",
      "/opt/anaconda3/lib/python3.7/site-packages/sklearn/linear_model/coordinate_descent.py:471: ConvergenceWarning: Objective did not converge. You might want to increase the number of iterations. Duality gap: 10.556353045584729, tolerance: 0.1653662035121701\n",
      "  tol, rng, random, positive)\n",
      "/opt/anaconda3/lib/python3.7/site-packages/sklearn/linear_model/coordinate_descent.py:471: ConvergenceWarning: Objective did not converge. You might want to increase the number of iterations. Duality gap: 0.7408797370740103, tolerance: 0.16887158238450253\n",
      "  tol, rng, random, positive)\n",
      "/opt/anaconda3/lib/python3.7/site-packages/sklearn/linear_model/coordinate_descent.py:471: ConvergenceWarning: Objective did not converge. You might want to increase the number of iterations. Duality gap: 1.6818027571273433, tolerance: 0.16887158238450253\n",
      "  tol, rng, random, positive)\n",
      "/opt/anaconda3/lib/python3.7/site-packages/sklearn/linear_model/coordinate_descent.py:471: ConvergenceWarning: Objective did not converge. You might want to increase the number of iterations. Duality gap: 1.0450492927622008, tolerance: 0.16887158238450253\n",
      "  tol, rng, random, positive)\n",
      "/opt/anaconda3/lib/python3.7/site-packages/sklearn/linear_model/coordinate_descent.py:471: ConvergenceWarning: Objective did not converge. You might want to increase the number of iterations. Duality gap: 3.297411145563956, tolerance: 0.16887158238450253\n",
      "  tol, rng, random, positive)\n",
      "/opt/anaconda3/lib/python3.7/site-packages/sklearn/linear_model/coordinate_descent.py:471: ConvergenceWarning: Objective did not converge. You might want to increase the number of iterations. Duality gap: 3.454107333236834, tolerance: 0.16887158238450253\n",
      "  tol, rng, random, positive)\n",
      "/opt/anaconda3/lib/python3.7/site-packages/sklearn/linear_model/coordinate_descent.py:471: ConvergenceWarning: Objective did not converge. You might want to increase the number of iterations. Duality gap: 0.5962938556549489, tolerance: 0.15530663498909103\n",
      "  tol, rng, random, positive)\n",
      "/opt/anaconda3/lib/python3.7/site-packages/sklearn/linear_model/coordinate_descent.py:471: ConvergenceWarning: Objective did not converge. You might want to increase the number of iterations. Duality gap: 0.6190558567093376, tolerance: 0.15530663498909103\n",
      "  tol, rng, random, positive)\n",
      "/opt/anaconda3/lib/python3.7/site-packages/sklearn/linear_model/coordinate_descent.py:471: ConvergenceWarning: Objective did not converge. You might want to increase the number of iterations. Duality gap: 2.414194982259346, tolerance: 0.15530663498909103\n",
      "  tol, rng, random, positive)\n",
      "/opt/anaconda3/lib/python3.7/site-packages/sklearn/linear_model/coordinate_descent.py:471: ConvergenceWarning: Objective did not converge. You might want to increase the number of iterations. Duality gap: 1.3611676200032434, tolerance: 0.1653662035121701\n",
      "  tol, rng, random, positive)\n",
      "/opt/anaconda3/lib/python3.7/site-packages/sklearn/linear_model/coordinate_descent.py:471: ConvergenceWarning: Objective did not converge. You might want to increase the number of iterations. Duality gap: 1.9768899753032656, tolerance: 0.1653662035121701\n",
      "  tol, rng, random, positive)\n",
      "/opt/anaconda3/lib/python3.7/site-packages/sklearn/linear_model/coordinate_descent.py:471: ConvergenceWarning: Objective did not converge. You might want to increase the number of iterations. Duality gap: 2.092900477241642, tolerance: 0.1653662035121701\n",
      "  tol, rng, random, positive)\n",
      "/opt/anaconda3/lib/python3.7/site-packages/sklearn/linear_model/coordinate_descent.py:471: ConvergenceWarning: Objective did not converge. You might want to increase the number of iterations. Duality gap: 4.16233325577582, tolerance: 0.1653662035121701\n",
      "  tol, rng, random, positive)\n",
      "/opt/anaconda3/lib/python3.7/site-packages/sklearn/linear_model/coordinate_descent.py:471: ConvergenceWarning: Objective did not converge. You might want to increase the number of iterations. Duality gap: 6.932254532818092, tolerance: 0.1653662035121701\n",
      "  tol, rng, random, positive)\n",
      "/opt/anaconda3/lib/python3.7/site-packages/sklearn/linear_model/coordinate_descent.py:471: ConvergenceWarning: Objective did not converge. You might want to increase the number of iterations. Duality gap: 0.6823873793121038, tolerance: 0.16887158238450253\n",
      "  tol, rng, random, positive)\n",
      "/opt/anaconda3/lib/python3.7/site-packages/sklearn/linear_model/coordinate_descent.py:471: ConvergenceWarning: Objective did not converge. You might want to increase the number of iterations. Duality gap: 0.5807159691704555, tolerance: 0.16887158238450253\n",
      "  tol, rng, random, positive)\n",
      "/opt/anaconda3/lib/python3.7/site-packages/sklearn/linear_model/coordinate_descent.py:471: ConvergenceWarning: Objective did not converge. You might want to increase the number of iterations. Duality gap: 0.8103908296299096, tolerance: 0.16887158238450253\n",
      "  tol, rng, random, positive)\n",
      "/opt/anaconda3/lib/python3.7/site-packages/sklearn/linear_model/coordinate_descent.py:471: ConvergenceWarning: Objective did not converge. You might want to increase the number of iterations. Duality gap: 1.6201890294413488, tolerance: 0.16887158238450253\n",
      "  tol, rng, random, positive)\n",
      "/opt/anaconda3/lib/python3.7/site-packages/sklearn/linear_model/coordinate_descent.py:471: ConvergenceWarning: Objective did not converge. You might want to increase the number of iterations. Duality gap: 0.8012774716227113, tolerance: 0.15530663498909103\n",
      "  tol, rng, random, positive)\n",
      "/opt/anaconda3/lib/python3.7/site-packages/sklearn/linear_model/coordinate_descent.py:471: ConvergenceWarning: Objective did not converge. You might want to increase the number of iterations. Duality gap: 0.6210879599761938, tolerance: 0.15530663498909103\n",
      "  tol, rng, random, positive)\n",
      "/opt/anaconda3/lib/python3.7/site-packages/sklearn/linear_model/coordinate_descent.py:471: ConvergenceWarning: Objective did not converge. You might want to increase the number of iterations. Duality gap: 2.3347260546291864, tolerance: 0.1653662035121701\n",
      "  tol, rng, random, positive)\n",
      "/opt/anaconda3/lib/python3.7/site-packages/sklearn/linear_model/coordinate_descent.py:471: ConvergenceWarning: Objective did not converge. You might want to increase the number of iterations. Duality gap: 1.6576405305296475, tolerance: 0.1653662035121701\n",
      "  tol, rng, random, positive)\n",
      "/opt/anaconda3/lib/python3.7/site-packages/sklearn/linear_model/coordinate_descent.py:471: ConvergenceWarning: Objective did not converge. You might want to increase the number of iterations. Duality gap: 1.3660752037853854, tolerance: 0.1653662035121701\n",
      "  tol, rng, random, positive)\n",
      "/opt/anaconda3/lib/python3.7/site-packages/sklearn/linear_model/coordinate_descent.py:471: ConvergenceWarning: Objective did not converge. You might want to increase the number of iterations. Duality gap: 6.406203243493792, tolerance: 0.1653662035121701\n",
      "  tol, rng, random, positive)\n",
      "/opt/anaconda3/lib/python3.7/site-packages/sklearn/linear_model/coordinate_descent.py:471: ConvergenceWarning: Objective did not converge. You might want to increase the number of iterations. Duality gap: 0.40283128111195765, tolerance: 0.16887158238450253\n",
      "  tol, rng, random, positive)\n",
      "/opt/anaconda3/lib/python3.7/site-packages/sklearn/linear_model/coordinate_descent.py:471: ConvergenceWarning: Objective did not converge. You might want to increase the number of iterations. Duality gap: 0.4957581783588694, tolerance: 0.16887158238450253\n",
      "  tol, rng, random, positive)\n",
      "/opt/anaconda3/lib/python3.7/site-packages/sklearn/linear_model/coordinate_descent.py:471: ConvergenceWarning: Objective did not converge. You might want to increase the number of iterations. Duality gap: 1.2693205263468599, tolerance: 0.16887158238450253\n",
      "  tol, rng, random, positive)\n"
     ]
    },
    {
     "data": {
      "image/png": "[encoded data removed]",
      "text/plain": [
       "<Figure size 720x288 with 2 Axes>"
      ]
     },
     "metadata": {
      "needs_background": "light"
     },
     "output_type": "display_data"
    }
   ],
   "source": [
    "pr.elasticnet_plots(e_alphas, e_ratios, X_train, y_train, X_test, y_test)"
   ]
  },
  {
   "cell_type": "code",
   "execution_count": 50,
   "metadata": {},
   "outputs": [],
   "source": [
    "## BONUS MODEL"
   ]
  },
  {
   "cell_type": "code",
   "execution_count": 51,
   "metadata": {},
   "outputs": [
    {
     "name": "stderr",
     "output_type": "stream",
     "text": [
      "/opt/anaconda3/lib/python3.7/site-packages/ipykernel_launcher.py:4: DataConversionWarning: A column-vector y was passed when a 1d array was expected. Please change the shape of y to (n_samples,), for example using ravel().\n",
      "  after removing the cwd from sys.path.\n"
     ]
    },
    {
     "name": "stdout",
     "output_type": "stream",
     "text": [
      "{'bootstrap': True, 'criterion': 'mse', 'max_depth': None, 'max_features': 'auto', 'max_leaf_nodes': None, 'min_impurity_decrease': 0.0, 'min_impurity_split': None, 'min_samples_leaf': 1, 'min_samples_split': 2, 'min_weight_fraction_leaf': 0.0, 'n_estimators': 100, 'n_jobs': None, 'oob_score': False, 'random_state': None, 'verbose': 0, 'warm_start': False}\n",
      "\n",
      "Mean squared error for Random Forest model is 0.49032300128512907\n"
     ]
    }
   ],
   "source": [
    "## RANDOM FOREST REGRESSOR\n",
    "from sklearn.ensemble import RandomForestRegressor\n",
    "forest = RandomForestRegressor(n_estimators=100)\n",
    "forest.fit(X_train, y_train)\n",
    "yf_pred = forest.predict(X_test)\n",
    "\n",
    "print(forest.get_params())\n",
    "print()\n",
    "print(f'Mean squared error for Random Forest model is {mean_squared_error(y_test, yf_pred)}')"
   ]
  }
 ],
 "metadata": {
  "kernelspec": {
   "display_name": "Python 3",
   "language": "python",
   "name": "python3"
  },
  "language_info": {
   "codemirror_mode": {
    "name": "ipython",
    "version": 3
   },
   "file_extension": ".py",
   "mimetype": "text/x-python",
   "name": "python",
   "nbconvert_exporter": "python",
   "pygments_lexer": "ipython3",
   "version": "3.7.4"
  }
 },
 "nbformat": 4,
 "nbformat_minor": 4
}
